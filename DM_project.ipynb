{
 "cells": [
  {
   "cell_type": "markdown",
   "id": "0c02fac4",
   "metadata": {
    "papermill": {
     "duration": 0.012774,
     "end_time": "2023-01-03T14:45:37.113792",
     "exception": false,
     "start_time": "2023-01-03T14:45:37.101018",
     "status": "completed"
    },
    "tags": []
   },
   "source": [
    "# 'Problem' Project on Diabetes Classification\n",
    "\n",
    "+ Pregnancies: Number of times pregnant\n",
    "+ Glucose: Plasma glucose concentration a 2 hours in an oral glucose tolerance test\n",
    "+ BloodPressure: Diastolic blood pressure (mm Hg)\n",
    "+ SkinThickness: Triceps skin fold thickness (mm)\n",
    "+ Insulin: 2-Hour serum insulin (mu U/ml)\n",
    "+ BMI: Body mass index (weight in kg/(height in m)^2)\n",
    "+ DiabetesPedigreeFunction: Diabetes pedigree function\n",
    "+ Age: Age (years)\n",
    "+ Outcome: Class variable (0 or 1)\n",
    "\n",
    "## Contents"
   ]
  },
  {
   "cell_type": "markdown",
   "id": "04545dcb",
   "metadata": {
    "papermill": {
     "duration": 0.012375,
     "end_time": "2023-01-03T14:45:37.137402",
     "exception": false,
     "start_time": "2023-01-03T14:45:37.125027",
     "status": "completed"
    },
    "tags": []
   },
   "source": [
    "# TODO:\n",
    "+ gridsearch to optimize algorithms knn, svc, dtc with crossvalidation\n",
    "+ clean analysis\n",
    "+ make nice tables for each observation"
   ]
  },
  {
   "cell_type": "markdown",
   "id": "e04d5050",
   "metadata": {
    "papermill": {
     "duration": 0.010546,
     "end_time": "2023-01-03T14:45:37.158759",
     "exception": false,
     "start_time": "2023-01-03T14:45:37.148213",
     "status": "completed"
    },
    "tags": []
   },
   "source": [
    "# 1. Initialization"
   ]
  },
  {
   "cell_type": "code",
   "execution_count": 1,
   "id": "e58cdb9a",
   "metadata": {
    "execution": {
     "iopub.execute_input": "2023-01-03T14:45:37.183121Z",
     "iopub.status.busy": "2023-01-03T14:45:37.182664Z",
     "iopub.status.idle": "2023-01-03T14:45:38.500660Z",
     "shell.execute_reply": "2023-01-03T14:45:38.499411Z"
    },
    "papermill": {
     "duration": 1.333627,
     "end_time": "2023-01-03T14:45:38.503739",
     "exception": false,
     "start_time": "2023-01-03T14:45:37.170112",
     "status": "completed"
    },
    "tags": []
   },
   "outputs": [],
   "source": [
    "# import all necessary libraries\n",
    "import numpy as np\n",
    "import pandas as pd\n",
    "import matplotlib.pyplot as plt\n",
    "from sklearn import svm\n",
    "from sklearn.neighbors import KNeighborsClassifier\n",
    "from sklearn import tree\n",
    "from sklearn.model_selection import train_test_split\n",
    "\n",
    "from sklearn.metrics import auc\n",
    "from sklearn.metrics import RocCurveDisplay\n",
    "from sklearn.model_selection import StratifiedKFold\n",
    "\n",
    "from statistics import mean, stdev\n",
    "\n",
    "# for evaluation metrics\n",
    "from sklearn.metrics import accuracy_score\n",
    "from sklearn.preprocessing import RobustScaler\n",
    "from sklearn.metrics import ConfusionMatrixDisplay\n",
    "from sklearn.model_selection import cross_val_score\n",
    "\n",
    "# tuning\n",
    "from sklearn.model_selection import GridSearchCV"
   ]
  },
  {
   "cell_type": "code",
   "execution_count": 2,
   "id": "30ea028d",
   "metadata": {
    "execution": {
     "iopub.execute_input": "2023-01-03T14:45:38.528245Z",
     "iopub.status.busy": "2023-01-03T14:45:38.527862Z",
     "iopub.status.idle": "2023-01-03T14:45:38.532176Z",
     "shell.execute_reply": "2023-01-03T14:45:38.530934Z"
    },
    "papermill": {
     "duration": 0.01976,
     "end_time": "2023-01-03T14:45:38.534518",
     "exception": false,
     "start_time": "2023-01-03T14:45:38.514758",
     "status": "completed"
    },
    "tags": []
   },
   "outputs": [],
   "source": [
    "# auxiliary functions\n",
    "\n"
   ]
  },
  {
   "cell_type": "markdown",
   "id": "0d053589",
   "metadata": {
    "papermill": {
     "duration": 0.010622,
     "end_time": "2023-01-03T14:45:38.555973",
     "exception": false,
     "start_time": "2023-01-03T14:45:38.545351",
     "status": "completed"
    },
    "tags": []
   },
   "source": [
    "# 2. Data Preprocessing\n",
    "\n",
    "## 2.1 Exploratory Data Analysis"
   ]
  },
  {
   "cell_type": "code",
   "execution_count": 3,
   "id": "1e122b16",
   "metadata": {
    "execution": {
     "iopub.execute_input": "2023-01-03T14:45:38.579853Z",
     "iopub.status.busy": "2023-01-03T14:45:38.579470Z",
     "iopub.status.idle": "2023-01-03T14:45:38.604671Z",
     "shell.execute_reply": "2023-01-03T14:45:38.603413Z"
    },
    "papermill": {
     "duration": 0.040358,
     "end_time": "2023-01-03T14:45:38.607461",
     "exception": false,
     "start_time": "2023-01-03T14:45:38.567103",
     "status": "completed"
    },
    "tags": []
   },
   "outputs": [],
   "source": [
    "diabetes_data = pd.read_csv(\"../input/diabetes-data-set/diabetes.csv\")\n",
    "column_names = diabetes_data.columns.to_numpy()\n",
    "attributes = column_names[0:8]"
   ]
  },
  {
   "cell_type": "code",
   "execution_count": 4,
   "id": "aebefa22",
   "metadata": {
    "execution": {
     "iopub.execute_input": "2023-01-03T14:45:38.631630Z",
     "iopub.status.busy": "2023-01-03T14:45:38.631198Z",
     "iopub.status.idle": "2023-01-03T14:45:38.651738Z",
     "shell.execute_reply": "2023-01-03T14:45:38.650560Z"
    },
    "papermill": {
     "duration": 0.036057,
     "end_time": "2023-01-03T14:45:38.654694",
     "exception": false,
     "start_time": "2023-01-03T14:45:38.618637",
     "status": "completed"
    },
    "scrolled": true,
    "tags": []
   },
   "outputs": [
    {
     "data": {
      "text/html": [
       "<div>\n",
       "<style scoped>\n",
       "    .dataframe tbody tr th:only-of-type {\n",
       "        vertical-align: middle;\n",
       "    }\n",
       "\n",
       "    .dataframe tbody tr th {\n",
       "        vertical-align: top;\n",
       "    }\n",
       "\n",
       "    .dataframe thead th {\n",
       "        text-align: right;\n",
       "    }\n",
       "</style>\n",
       "<table border=\"1\" class=\"dataframe\">\n",
       "  <thead>\n",
       "    <tr style=\"text-align: right;\">\n",
       "      <th></th>\n",
       "      <th>Pregnancies</th>\n",
       "      <th>Glucose</th>\n",
       "      <th>BloodPressure</th>\n",
       "      <th>SkinThickness</th>\n",
       "      <th>Insulin</th>\n",
       "      <th>BMI</th>\n",
       "      <th>DiabetesPedigreeFunction</th>\n",
       "      <th>Age</th>\n",
       "      <th>Outcome</th>\n",
       "    </tr>\n",
       "  </thead>\n",
       "  <tbody>\n",
       "    <tr>\n",
       "      <th>0</th>\n",
       "      <td>6</td>\n",
       "      <td>148</td>\n",
       "      <td>72</td>\n",
       "      <td>35</td>\n",
       "      <td>0</td>\n",
       "      <td>33.6</td>\n",
       "      <td>0.627</td>\n",
       "      <td>50</td>\n",
       "      <td>1</td>\n",
       "    </tr>\n",
       "    <tr>\n",
       "      <th>1</th>\n",
       "      <td>1</td>\n",
       "      <td>85</td>\n",
       "      <td>66</td>\n",
       "      <td>29</td>\n",
       "      <td>0</td>\n",
       "      <td>26.6</td>\n",
       "      <td>0.351</td>\n",
       "      <td>31</td>\n",
       "      <td>0</td>\n",
       "    </tr>\n",
       "    <tr>\n",
       "      <th>2</th>\n",
       "      <td>8</td>\n",
       "      <td>183</td>\n",
       "      <td>64</td>\n",
       "      <td>0</td>\n",
       "      <td>0</td>\n",
       "      <td>23.3</td>\n",
       "      <td>0.672</td>\n",
       "      <td>32</td>\n",
       "      <td>1</td>\n",
       "    </tr>\n",
       "    <tr>\n",
       "      <th>3</th>\n",
       "      <td>1</td>\n",
       "      <td>89</td>\n",
       "      <td>66</td>\n",
       "      <td>23</td>\n",
       "      <td>94</td>\n",
       "      <td>28.1</td>\n",
       "      <td>0.167</td>\n",
       "      <td>21</td>\n",
       "      <td>0</td>\n",
       "    </tr>\n",
       "    <tr>\n",
       "      <th>4</th>\n",
       "      <td>0</td>\n",
       "      <td>137</td>\n",
       "      <td>40</td>\n",
       "      <td>35</td>\n",
       "      <td>168</td>\n",
       "      <td>43.1</td>\n",
       "      <td>2.288</td>\n",
       "      <td>33</td>\n",
       "      <td>1</td>\n",
       "    </tr>\n",
       "  </tbody>\n",
       "</table>\n",
       "</div>"
      ],
      "text/plain": [
       "   Pregnancies  Glucose  BloodPressure  SkinThickness  Insulin   BMI  \\\n",
       "0            6      148             72             35        0  33.6   \n",
       "1            1       85             66             29        0  26.6   \n",
       "2            8      183             64              0        0  23.3   \n",
       "3            1       89             66             23       94  28.1   \n",
       "4            0      137             40             35      168  43.1   \n",
       "\n",
       "   DiabetesPedigreeFunction  Age  Outcome  \n",
       "0                     0.627   50        1  \n",
       "1                     0.351   31        0  \n",
       "2                     0.672   32        1  \n",
       "3                     0.167   21        0  \n",
       "4                     2.288   33        1  "
      ]
     },
     "execution_count": 4,
     "metadata": {},
     "output_type": "execute_result"
    }
   ],
   "source": [
    "diabetes_data.head()"
   ]
  },
  {
   "cell_type": "code",
   "execution_count": 5,
   "id": "e687ecfc",
   "metadata": {
    "execution": {
     "iopub.execute_input": "2023-01-03T14:45:38.679419Z",
     "iopub.status.busy": "2023-01-03T14:45:38.679016Z",
     "iopub.status.idle": "2023-01-03T14:45:38.704309Z",
     "shell.execute_reply": "2023-01-03T14:45:38.703051Z"
    },
    "papermill": {
     "duration": 0.040614,
     "end_time": "2023-01-03T14:45:38.706855",
     "exception": false,
     "start_time": "2023-01-03T14:45:38.666241",
     "status": "completed"
    },
    "tags": []
   },
   "outputs": [
    {
     "name": "stdout",
     "output_type": "stream",
     "text": [
      "<class 'pandas.core.frame.DataFrame'>\n",
      "RangeIndex: 768 entries, 0 to 767\n",
      "Data columns (total 9 columns):\n",
      " #   Column                    Non-Null Count  Dtype  \n",
      "---  ------                    --------------  -----  \n",
      " 0   Pregnancies               768 non-null    int64  \n",
      " 1   Glucose                   768 non-null    int64  \n",
      " 2   BloodPressure             768 non-null    int64  \n",
      " 3   SkinThickness             768 non-null    int64  \n",
      " 4   Insulin                   768 non-null    int64  \n",
      " 5   BMI                       768 non-null    float64\n",
      " 6   DiabetesPedigreeFunction  768 non-null    float64\n",
      " 7   Age                       768 non-null    int64  \n",
      " 8   Outcome                   768 non-null    int64  \n",
      "dtypes: float64(2), int64(7)\n",
      "memory usage: 54.1 KB\n"
     ]
    }
   ],
   "source": [
    "diabetes_data.info()"
   ]
  },
  {
   "cell_type": "code",
   "execution_count": 6,
   "id": "138220f3",
   "metadata": {
    "execution": {
     "iopub.execute_input": "2023-01-03T14:45:38.731622Z",
     "iopub.status.busy": "2023-01-03T14:45:38.731202Z",
     "iopub.status.idle": "2023-01-03T14:45:38.770499Z",
     "shell.execute_reply": "2023-01-03T14:45:38.769185Z"
    },
    "papermill": {
     "duration": 0.054944,
     "end_time": "2023-01-03T14:45:38.773310",
     "exception": false,
     "start_time": "2023-01-03T14:45:38.718366",
     "status": "completed"
    },
    "tags": []
   },
   "outputs": [
    {
     "data": {
      "text/html": [
       "<div>\n",
       "<style scoped>\n",
       "    .dataframe tbody tr th:only-of-type {\n",
       "        vertical-align: middle;\n",
       "    }\n",
       "\n",
       "    .dataframe tbody tr th {\n",
       "        vertical-align: top;\n",
       "    }\n",
       "\n",
       "    .dataframe thead th {\n",
       "        text-align: right;\n",
       "    }\n",
       "</style>\n",
       "<table border=\"1\" class=\"dataframe\">\n",
       "  <thead>\n",
       "    <tr style=\"text-align: right;\">\n",
       "      <th></th>\n",
       "      <th>Pregnancies</th>\n",
       "      <th>Glucose</th>\n",
       "      <th>BloodPressure</th>\n",
       "      <th>SkinThickness</th>\n",
       "      <th>Insulin</th>\n",
       "      <th>BMI</th>\n",
       "      <th>DiabetesPedigreeFunction</th>\n",
       "      <th>Age</th>\n",
       "      <th>Outcome</th>\n",
       "    </tr>\n",
       "  </thead>\n",
       "  <tbody>\n",
       "    <tr>\n",
       "      <th>count</th>\n",
       "      <td>768.000000</td>\n",
       "      <td>768.000000</td>\n",
       "      <td>768.000000</td>\n",
       "      <td>768.000000</td>\n",
       "      <td>768.000000</td>\n",
       "      <td>768.000000</td>\n",
       "      <td>768.000000</td>\n",
       "      <td>768.000000</td>\n",
       "      <td>768.000000</td>\n",
       "    </tr>\n",
       "    <tr>\n",
       "      <th>mean</th>\n",
       "      <td>3.845052</td>\n",
       "      <td>120.894531</td>\n",
       "      <td>69.105469</td>\n",
       "      <td>20.536458</td>\n",
       "      <td>79.799479</td>\n",
       "      <td>31.992578</td>\n",
       "      <td>0.471876</td>\n",
       "      <td>33.240885</td>\n",
       "      <td>0.348958</td>\n",
       "    </tr>\n",
       "    <tr>\n",
       "      <th>std</th>\n",
       "      <td>3.369578</td>\n",
       "      <td>31.972618</td>\n",
       "      <td>19.355807</td>\n",
       "      <td>15.952218</td>\n",
       "      <td>115.244002</td>\n",
       "      <td>7.884160</td>\n",
       "      <td>0.331329</td>\n",
       "      <td>11.760232</td>\n",
       "      <td>0.476951</td>\n",
       "    </tr>\n",
       "    <tr>\n",
       "      <th>min</th>\n",
       "      <td>0.000000</td>\n",
       "      <td>0.000000</td>\n",
       "      <td>0.000000</td>\n",
       "      <td>0.000000</td>\n",
       "      <td>0.000000</td>\n",
       "      <td>0.000000</td>\n",
       "      <td>0.078000</td>\n",
       "      <td>21.000000</td>\n",
       "      <td>0.000000</td>\n",
       "    </tr>\n",
       "    <tr>\n",
       "      <th>25%</th>\n",
       "      <td>1.000000</td>\n",
       "      <td>99.000000</td>\n",
       "      <td>62.000000</td>\n",
       "      <td>0.000000</td>\n",
       "      <td>0.000000</td>\n",
       "      <td>27.300000</td>\n",
       "      <td>0.243750</td>\n",
       "      <td>24.000000</td>\n",
       "      <td>0.000000</td>\n",
       "    </tr>\n",
       "    <tr>\n",
       "      <th>50%</th>\n",
       "      <td>3.000000</td>\n",
       "      <td>117.000000</td>\n",
       "      <td>72.000000</td>\n",
       "      <td>23.000000</td>\n",
       "      <td>30.500000</td>\n",
       "      <td>32.000000</td>\n",
       "      <td>0.372500</td>\n",
       "      <td>29.000000</td>\n",
       "      <td>0.000000</td>\n",
       "    </tr>\n",
       "    <tr>\n",
       "      <th>75%</th>\n",
       "      <td>6.000000</td>\n",
       "      <td>140.250000</td>\n",
       "      <td>80.000000</td>\n",
       "      <td>32.000000</td>\n",
       "      <td>127.250000</td>\n",
       "      <td>36.600000</td>\n",
       "      <td>0.626250</td>\n",
       "      <td>41.000000</td>\n",
       "      <td>1.000000</td>\n",
       "    </tr>\n",
       "    <tr>\n",
       "      <th>max</th>\n",
       "      <td>17.000000</td>\n",
       "      <td>199.000000</td>\n",
       "      <td>122.000000</td>\n",
       "      <td>99.000000</td>\n",
       "      <td>846.000000</td>\n",
       "      <td>67.100000</td>\n",
       "      <td>2.420000</td>\n",
       "      <td>81.000000</td>\n",
       "      <td>1.000000</td>\n",
       "    </tr>\n",
       "  </tbody>\n",
       "</table>\n",
       "</div>"
      ],
      "text/plain": [
       "       Pregnancies     Glucose  BloodPressure  SkinThickness     Insulin  \\\n",
       "count   768.000000  768.000000     768.000000     768.000000  768.000000   \n",
       "mean      3.845052  120.894531      69.105469      20.536458   79.799479   \n",
       "std       3.369578   31.972618      19.355807      15.952218  115.244002   \n",
       "min       0.000000    0.000000       0.000000       0.000000    0.000000   \n",
       "25%       1.000000   99.000000      62.000000       0.000000    0.000000   \n",
       "50%       3.000000  117.000000      72.000000      23.000000   30.500000   \n",
       "75%       6.000000  140.250000      80.000000      32.000000  127.250000   \n",
       "max      17.000000  199.000000     122.000000      99.000000  846.000000   \n",
       "\n",
       "              BMI  DiabetesPedigreeFunction         Age     Outcome  \n",
       "count  768.000000                768.000000  768.000000  768.000000  \n",
       "mean    31.992578                  0.471876   33.240885    0.348958  \n",
       "std      7.884160                  0.331329   11.760232    0.476951  \n",
       "min      0.000000                  0.078000   21.000000    0.000000  \n",
       "25%     27.300000                  0.243750   24.000000    0.000000  \n",
       "50%     32.000000                  0.372500   29.000000    0.000000  \n",
       "75%     36.600000                  0.626250   41.000000    1.000000  \n",
       "max     67.100000                  2.420000   81.000000    1.000000  "
      ]
     },
     "execution_count": 6,
     "metadata": {},
     "output_type": "execute_result"
    }
   ],
   "source": [
    "diabetes_data.describe()"
   ]
  },
  {
   "cell_type": "code",
   "execution_count": 7,
   "id": "c195324c",
   "metadata": {
    "execution": {
     "iopub.execute_input": "2023-01-03T14:45:38.799841Z",
     "iopub.status.busy": "2023-01-03T14:45:38.799216Z",
     "iopub.status.idle": "2023-01-03T14:45:39.935142Z",
     "shell.execute_reply": "2023-01-03T14:45:39.934262Z"
    },
    "papermill": {
     "duration": 1.151906,
     "end_time": "2023-01-03T14:45:39.937339",
     "exception": false,
     "start_time": "2023-01-03T14:45:38.785433",
     "status": "completed"
    },
    "tags": []
   },
   "outputs": [
    {
     "data": {
      "image/png": "[encoded data removed]",
      "text/plain": [
       "<Figure size 1080x576 with 8 Axes>"
      ]
     },
     "metadata": {
      "needs_background": "light"
     },
     "output_type": "display_data"
    }
   ],
   "source": [
    "X = pd.DataFrame(diabetes_data).to_numpy()[:, 0:8]\n",
    "\n",
    "fig, ax = plt.subplots(2,4,figsize=(15,8))\n",
    "fig.tight_layout()\n",
    "\n",
    "col = 0\n",
    "for i in range(2):\n",
    "    ax[i, 0].set_ylabel('Count')\n",
    "    for j in range(4):\n",
    "        ax[i, j].hist(X[:, col])  \n",
    "        ax[i, j].set_title(column_names[col])   \n",
    "        col += 1\n",
    "plt.show()"
   ]
  },
  {
   "cell_type": "markdown",
   "id": "b2ae6122",
   "metadata": {
    "papermill": {
     "duration": 0.011916,
     "end_time": "2023-01-03T14:45:39.961654",
     "exception": false,
     "start_time": "2023-01-03T14:45:39.949738",
     "status": "completed"
    },
    "tags": []
   },
   "source": [
    "+ We can see that the minimum value of some columns is 0, for pregnancies this seems indeed possible but for the other columns this is not logical.\n",
    "+ We can see that the data does not contain any null values and the datatypes are all numerical"
   ]
  },
  {
   "cell_type": "markdown",
   "id": "63821017",
   "metadata": {
    "papermill": {
     "duration": 0.012062,
     "end_time": "2023-01-03T14:45:39.985939",
     "exception": false,
     "start_time": "2023-01-03T14:45:39.973877",
     "status": "completed"
    },
    "tags": []
   },
   "source": [
    "## 2.2 Missing Values Handling"
   ]
  },
  {
   "cell_type": "markdown",
   "id": "bb4fc8a4",
   "metadata": {
    "papermill": {
     "duration": 0.011838,
     "end_time": "2023-01-03T14:45:40.010436",
     "exception": false,
     "start_time": "2023-01-03T14:45:39.998598",
     "status": "completed"
    },
    "tags": []
   },
   "source": [
    "We will create a new dataset and replace the new values of the columns with the NaN <br>\n",
    "We want to know how many zero values<br>\n",
    "So we have to replace the null values with the mean of the column, such that the data is not completely wasted.<br>"
   ]
  },
  {
   "cell_type": "code",
   "execution_count": 8,
   "id": "a99d6d54",
   "metadata": {
    "execution": {
     "iopub.execute_input": "2023-01-03T14:45:40.037310Z",
     "iopub.status.busy": "2023-01-03T14:45:40.036702Z",
     "iopub.status.idle": "2023-01-03T14:45:40.044699Z",
     "shell.execute_reply": "2023-01-03T14:45:40.043625Z"
    },
    "papermill": {
     "duration": 0.023807,
     "end_time": "2023-01-03T14:45:40.046801",
     "exception": false,
     "start_time": "2023-01-03T14:45:40.022994",
     "status": "completed"
    },
    "tags": []
   },
   "outputs": [
    {
     "data": {
      "text/plain": [
       "Pregnancies                 0\n",
       "Glucose                     0\n",
       "BloodPressure               0\n",
       "SkinThickness               0\n",
       "Insulin                     0\n",
       "BMI                         0\n",
       "DiabetesPedigreeFunction    0\n",
       "Age                         0\n",
       "Outcome                     0\n",
       "dtype: int64"
      ]
     },
     "execution_count": 8,
     "metadata": {},
     "output_type": "execute_result"
    }
   ],
   "source": [
    "diabetes_data.isnull().sum()"
   ]
  },
  {
   "cell_type": "code",
   "execution_count": 9,
   "id": "b4f71526",
   "metadata": {
    "execution": {
     "iopub.execute_input": "2023-01-03T14:45:40.074208Z",
     "iopub.status.busy": "2023-01-03T14:45:40.073588Z",
     "iopub.status.idle": "2023-01-03T14:45:40.082456Z",
     "shell.execute_reply": "2023-01-03T14:45:40.081373Z"
    },
    "papermill": {
     "duration": 0.025771,
     "end_time": "2023-01-03T14:45:40.085175",
     "exception": false,
     "start_time": "2023-01-03T14:45:40.059404",
     "status": "completed"
    },
    "tags": []
   },
   "outputs": [],
   "source": [
    "# replace 0 value for columns where zero value does not make sense with NaN\n",
    "diabetes_data_new = diabetes_data\n",
    "diabetes_data_new[[\"Glucose\", \"BloodPressure\", \"SkinThickness\", \"Insulin\", \"BMI\"]] = diabetes_data_new[[\"Glucose\", \"BloodPressure\", \"SkinThickness\", \"Insulin\", \"BMI\"]].replace(0, np.NaN)"
   ]
  },
  {
   "cell_type": "code",
   "execution_count": 10,
   "id": "e9a31eb6",
   "metadata": {
    "execution": {
     "iopub.execute_input": "2023-01-03T14:45:40.112917Z",
     "iopub.status.busy": "2023-01-03T14:45:40.112519Z",
     "iopub.status.idle": "2023-01-03T14:45:40.121447Z",
     "shell.execute_reply": "2023-01-03T14:45:40.120474Z"
    },
    "papermill": {
     "duration": 0.02524,
     "end_time": "2023-01-03T14:45:40.123913",
     "exception": false,
     "start_time": "2023-01-03T14:45:40.098673",
     "status": "completed"
    },
    "tags": []
   },
   "outputs": [
    {
     "data": {
      "text/plain": [
       "Pregnancies                   0\n",
       "Glucose                       5\n",
       "BloodPressure                35\n",
       "SkinThickness               227\n",
       "Insulin                     374\n",
       "BMI                          11\n",
       "DiabetesPedigreeFunction      0\n",
       "Age                           0\n",
       "Outcome                       0\n",
       "dtype: int64"
      ]
     },
     "execution_count": 10,
     "metadata": {},
     "output_type": "execute_result"
    }
   ],
   "source": [
    "diabetes_data_new.isnull().sum()"
   ]
  },
  {
   "cell_type": "code",
   "execution_count": 11,
   "id": "d1f1c63f",
   "metadata": {
    "execution": {
     "iopub.execute_input": "2023-01-03T14:45:40.150846Z",
     "iopub.status.busy": "2023-01-03T14:45:40.150450Z",
     "iopub.status.idle": "2023-01-03T14:45:40.160106Z",
     "shell.execute_reply": "2023-01-03T14:45:40.158667Z"
    },
    "papermill": {
     "duration": 0.026032,
     "end_time": "2023-01-03T14:45:40.162572",
     "exception": false,
     "start_time": "2023-01-03T14:45:40.136540",
     "status": "completed"
    },
    "scrolled": true,
    "tags": []
   },
   "outputs": [
    {
     "name": "stdout",
     "output_type": "stream",
     "text": [
      "Pregnancies : \t 0.0  %\n",
      "Glucose : \t 0.65  %\n",
      "BloodPressure : \t 4.56  %\n",
      "SkinThickness : \t 29.56  %\n",
      "Insulin : \t 48.7  %\n",
      "BMI : \t 1.43  %\n",
      "DiabetesPedigreeFunction : \t 0.0  %\n",
      "Age : \t 0.0  %\n",
      "Outcome : \t 0.0  %\n"
     ]
    }
   ],
   "source": [
    "# TODO: create nice table\n",
    "percentages = []\n",
    "for i in diabetes_data_new.isnull().sum().values:\n",
    "    percentages.append((i / 768) * 100)\n",
    "for i in range(len(percentages)):\n",
    "    print(column_names[i], \": \\t\", round(percentages[i], 2), \" %\")"
   ]
  },
  {
   "cell_type": "code",
   "execution_count": 12,
   "id": "204ba945",
   "metadata": {
    "execution": {
     "iopub.execute_input": "2023-01-03T14:45:40.189783Z",
     "iopub.status.busy": "2023-01-03T14:45:40.189092Z",
     "iopub.status.idle": "2023-01-03T14:45:40.204509Z",
     "shell.execute_reply": "2023-01-03T14:45:40.203280Z"
    },
    "papermill": {
     "duration": 0.03198,
     "end_time": "2023-01-03T14:45:40.207164",
     "exception": false,
     "start_time": "2023-01-03T14:45:40.175184",
     "status": "completed"
    },
    "tags": []
   },
   "outputs": [
    {
     "name": "stdout",
     "output_type": "stream",
     "text": [
      "Mean values for Outcome = 1\n",
      "Pregnancies                   4.000\n",
      "Glucose                     140.000\n",
      "BloodPressure                74.500\n",
      "SkinThickness                32.000\n",
      "Insulin                     169.500\n",
      "BMI                          34.300\n",
      "DiabetesPedigreeFunction      0.449\n",
      "Age                          36.000\n",
      "Name: 1, dtype: float64\n",
      "Mean values for Outcome = 0\n",
      "Pregnancies                   2.000\n",
      "Glucose                     107.000\n",
      "BloodPressure                70.000\n",
      "SkinThickness                27.000\n",
      "Insulin                     102.500\n",
      "BMI                          30.100\n",
      "DiabetesPedigreeFunction      0.336\n",
      "Age                          27.000\n",
      "Name: 0, dtype: float64\n"
     ]
    }
   ],
   "source": [
    "# TODO: nicer result\n",
    "# mean values of Outcome 1 and Outcome 0\n",
    "print(\"Mean values for Outcome = 1\")\n",
    "print(diabetes_data_new.groupby('Outcome').median().loc[1])\n",
    "print(\"Mean values for Outcome = 0\")\n",
    "print(diabetes_data_new.groupby('Outcome').median().loc[0])"
   ]
  },
  {
   "cell_type": "code",
   "execution_count": 13,
   "id": "b3b60da7",
   "metadata": {
    "execution": {
     "iopub.execute_input": "2023-01-03T14:45:40.234342Z",
     "iopub.status.busy": "2023-01-03T14:45:40.233555Z",
     "iopub.status.idle": "2023-01-03T14:45:40.244367Z",
     "shell.execute_reply": "2023-01-03T14:45:40.243407Z"
    },
    "papermill": {
     "duration": 0.026801,
     "end_time": "2023-01-03T14:45:40.246526",
     "exception": false,
     "start_time": "2023-01-03T14:45:40.219725",
     "status": "completed"
    },
    "tags": []
   },
   "outputs": [
    {
     "data": {
      "text/plain": [
       "169.5"
      ]
     },
     "execution_count": 13,
     "metadata": {},
     "output_type": "execute_result"
    }
   ],
   "source": [
    "diabetes_data_new.groupby('Outcome').median().loc[1, \"Insulin\"]"
   ]
  },
  {
   "cell_type": "code",
   "execution_count": 14,
   "id": "3e39878f",
   "metadata": {
    "execution": {
     "iopub.execute_input": "2023-01-03T14:45:40.273878Z",
     "iopub.status.busy": "2023-01-03T14:45:40.272821Z",
     "iopub.status.idle": "2023-01-03T14:45:40.305488Z",
     "shell.execute_reply": "2023-01-03T14:45:40.304544Z"
    },
    "papermill": {
     "duration": 0.049142,
     "end_time": "2023-01-03T14:45:40.308207",
     "exception": false,
     "start_time": "2023-01-03T14:45:40.259065",
     "status": "completed"
    },
    "tags": []
   },
   "outputs": [],
   "source": [
    "# replace the null values of class 1 and class 0 seperately\n",
    "\n",
    "replace_columns = [\"Glucose\", \"BloodPressure\", \"SkinThickness\", \"Insulin\", \"BMI\"]\n",
    "\n",
    "for col in replace_columns:\n",
    "    diabetes_data_new.loc[(diabetes_data_new['Outcome'] == 0 ) & (diabetes_data_new[col].isnull()), col] = diabetes_data_new.groupby('Outcome').median().loc[0, col]\n",
    "    diabetes_data_new.loc[(diabetes_data_new['Outcome'] == 1 ) & (diabetes_data_new[col].isnull()), col] = diabetes_data_new.groupby('Outcome').median().loc[1, col]"
   ]
  },
  {
   "cell_type": "code",
   "execution_count": 15,
   "id": "a1ca740f",
   "metadata": {
    "execution": {
     "iopub.execute_input": "2023-01-03T14:45:40.334979Z",
     "iopub.status.busy": "2023-01-03T14:45:40.334555Z",
     "iopub.status.idle": "2023-01-03T14:45:41.664968Z",
     "shell.execute_reply": "2023-01-03T14:45:41.663719Z"
    },
    "papermill": {
     "duration": 1.346776,
     "end_time": "2023-01-03T14:45:41.667540",
     "exception": false,
     "start_time": "2023-01-03T14:45:40.320764",
     "status": "completed"
    },
    "tags": []
   },
   "outputs": [
    {
     "data": {
      "image/png": "[encoded data removed]",
      "text/plain": [
       "<Figure size 1080x576 with 8 Axes>"
      ]
     },
     "metadata": {
      "needs_background": "light"
     },
     "output_type": "display_data"
    }
   ],
   "source": [
    "X = pd.DataFrame(diabetes_data_new).to_numpy()[:, 0:8]\n",
    "\n",
    "fig, ax = plt.subplots(2,4,figsize=(15,8))\n",
    "fig.tight_layout()\n",
    "\n",
    "col = 0\n",
    "for i in range(2):\n",
    "    ax[i, 0].set_ylabel('Count')\n",
    "    for j in range(4):\n",
    "        ax[i, j].hist(X[:, col])  \n",
    "        ax[i, j].set_title(column_names[col])   \n",
    "        col += 1\n",
    "plt.show()"
   ]
  },
  {
   "cell_type": "markdown",
   "id": "44e5710a",
   "metadata": {
    "papermill": {
     "duration": 0.013724,
     "end_time": "2023-01-03T14:45:41.695271",
     "exception": false,
     "start_time": "2023-01-03T14:45:41.681547",
     "status": "completed"
    },
    "tags": []
   },
   "source": [
    "## 2.3 Outlier Handling"
   ]
  },
  {
   "cell_type": "code",
   "execution_count": 16,
   "id": "bcf78209",
   "metadata": {
    "execution": {
     "iopub.execute_input": "2023-01-03T14:45:41.724432Z",
     "iopub.status.busy": "2023-01-03T14:45:41.724016Z",
     "iopub.status.idle": "2023-01-03T14:45:42.017579Z",
     "shell.execute_reply": "2023-01-03T14:45:42.016081Z"
    },
    "papermill": {
     "duration": 0.311612,
     "end_time": "2023-01-03T14:45:42.020438",
     "exception": false,
     "start_time": "2023-01-03T14:45:41.708826",
     "status": "completed"
    },
    "tags": []
   },
   "outputs": [
    {
     "data": {
      "text/plain": [
       "Text(0, 0.5, 'Values (centimeters)')"
      ]
     },
     "execution_count": 16,
     "metadata": {},
     "output_type": "execute_result"
    },
    {
     "data": {
      "image/png": "[encoded data removed]",
      "text/plain": [
       "<Figure size 432x288 with 1 Axes>"
      ]
     },
     "metadata": {
      "needs_background": "light"
     },
     "output_type": "display_data"
    }
   ],
   "source": [
    "# make boxplots to identify outliers\n",
    "# standard deviation\n",
    "\n",
    "plt.boxplot(diabetes_data_new)\n",
    "plt.ylabel('Values (centimeters)')\n",
    "#plt.xticks([1, 2, 3, 4],['sepal length','sepal width','petal length','petal width’])\n"
   ]
  },
  {
   "cell_type": "code",
   "execution_count": 17,
   "id": "b4510082",
   "metadata": {
    "execution": {
     "iopub.execute_input": "2023-01-03T14:45:42.051749Z",
     "iopub.status.busy": "2023-01-03T14:45:42.051263Z",
     "iopub.status.idle": "2023-01-03T14:45:42.069702Z",
     "shell.execute_reply": "2023-01-03T14:45:42.068566Z"
    },
    "papermill": {
     "duration": 0.036817,
     "end_time": "2023-01-03T14:45:42.072118",
     "exception": false,
     "start_time": "2023-01-03T14:45:42.035301",
     "status": "completed"
    },
    "tags": []
   },
   "outputs": [
    {
     "data": {
      "text/plain": [
       "Pregnancies                  0\n",
       "Glucose                      0\n",
       "BloodPressure                0\n",
       "SkinThickness                1\n",
       "Insulin                     18\n",
       "BMI                          0\n",
       "DiabetesPedigreeFunction     4\n",
       "Age                          0\n",
       "Outcome                      0\n",
       "dtype: int64"
      ]
     },
     "execution_count": 17,
     "metadata": {},
     "output_type": "execute_result"
    }
   ],
   "source": [
    "# TODO: do it for 75 and 25 or 95 and 5\n",
    "# count outliers\n",
    "\n",
    "Q1 = diabetes_data_new.quantile(0.10)\n",
    "Q3 = diabetes_data_new.quantile(0.90)\n",
    "IQR = Q3 - Q1\n",
    "\n",
    "((diabetes_data_new < (Q1 - 1.5 * IQR)) | (diabetes_data_new > (Q3 + 1.5 * IQR))).sum()"
   ]
  },
  {
   "cell_type": "markdown",
   "id": "e3c641ca",
   "metadata": {
    "papermill": {
     "duration": 0.013732,
     "end_time": "2023-01-03T14:45:42.100247",
     "exception": false,
     "start_time": "2023-01-03T14:45:42.086515",
     "status": "completed"
    },
    "tags": []
   },
   "source": [
    "# 2.4 Scaling, because of algorithms"
   ]
  },
  {
   "cell_type": "markdown",
   "id": "85b063bc",
   "metadata": {
    "papermill": {
     "duration": 0.013657,
     "end_time": "2023-01-03T14:45:42.128584",
     "exception": false,
     "start_time": "2023-01-03T14:45:42.114927",
     "status": "completed"
    },
    "tags": []
   },
   "source": [
    "There are big differences in values, so we scale such that the algorithms are not biased, such as KNN"
   ]
  },
  {
   "cell_type": "code",
   "execution_count": 18,
   "id": "4fb5d712",
   "metadata": {
    "execution": {
     "iopub.execute_input": "2023-01-03T14:45:42.158042Z",
     "iopub.status.busy": "2023-01-03T14:45:42.157624Z",
     "iopub.status.idle": "2023-01-03T14:45:42.168297Z",
     "shell.execute_reply": "2023-01-03T14:45:42.167113Z"
    },
    "papermill": {
     "duration": 0.028826,
     "end_time": "2023-01-03T14:45:42.171014",
     "exception": false,
     "start_time": "2023-01-03T14:45:42.142188",
     "status": "completed"
    },
    "tags": []
   },
   "outputs": [],
   "source": [
    "# scaling the dataset\n",
    "X = pd.DataFrame(diabetes_data_new).to_numpy()[:, 0:8]\n",
    "y = pd.DataFrame(diabetes_data_new).to_numpy()[:, 8]\n",
    "\n",
    "X_scaled = RobustScaler().fit_transform(X, y)\n",
    "X = pd.DataFrame(X_scaled).to_numpy()[:, 0:8]"
   ]
  },
  {
   "cell_type": "markdown",
   "id": "bee6a25e",
   "metadata": {
    "papermill": {
     "duration": 0.013308,
     "end_time": "2023-01-03T14:45:42.198062",
     "exception": false,
     "start_time": "2023-01-03T14:45:42.184754",
     "status": "completed"
    },
    "tags": []
   },
   "source": [
    "# 2.5 Cleaned data"
   ]
  },
  {
   "cell_type": "code",
   "execution_count": 19,
   "id": "8d6b3ca3",
   "metadata": {
    "execution": {
     "iopub.execute_input": "2023-01-03T14:45:42.227764Z",
     "iopub.status.busy": "2023-01-03T14:45:42.227288Z",
     "iopub.status.idle": "2023-01-03T14:45:43.416731Z",
     "shell.execute_reply": "2023-01-03T14:45:43.415416Z"
    },
    "papermill": {
     "duration": 1.207306,
     "end_time": "2023-01-03T14:45:43.419515",
     "exception": false,
     "start_time": "2023-01-03T14:45:42.212209",
     "status": "completed"
    },
    "tags": []
   },
   "outputs": [
    {
     "data": {
      "image/png": "[encoded data removed]",
      "text/plain": [
       "<Figure size 1080x576 with 8 Axes>"
      ]
     },
     "metadata": {
      "needs_background": "light"
     },
     "output_type": "display_data"
    }
   ],
   "source": [
    "fig, ax = plt.subplots(2,4,figsize=(15,8))\n",
    "fig.tight_layout()\n",
    "\n",
    "col = 0\n",
    "for i in range(2):\n",
    "    ax[i, 0].set_ylabel('Count')\n",
    "    for j in range(4):\n",
    "        ax[i, j].hist(X[:, col])  \n",
    "        ax[i, j].set_title(column_names[col])   \n",
    "        col += 1\n",
    "plt.show()"
   ]
  },
  {
   "cell_type": "markdown",
   "id": "4541e5f1",
   "metadata": {
    "papermill": {
     "duration": 0.014132,
     "end_time": "2023-01-03T14:45:43.448410",
     "exception": false,
     "start_time": "2023-01-03T14:45:43.434278",
     "status": "completed"
    },
    "tags": []
   },
   "source": [
    "# Algorithms"
   ]
  },
  {
   "cell_type": "code",
   "execution_count": 20,
   "id": "b18908ce",
   "metadata": {
    "execution": {
     "iopub.execute_input": "2023-01-03T14:45:43.478988Z",
     "iopub.status.busy": "2023-01-03T14:45:43.478590Z",
     "iopub.status.idle": "2023-01-03T14:45:43.483855Z",
     "shell.execute_reply": "2023-01-03T14:45:43.482513Z"
    },
    "papermill": {
     "duration": 0.023528,
     "end_time": "2023-01-03T14:45:43.486339",
     "exception": false,
     "start_time": "2023-01-03T14:45:43.462811",
     "status": "completed"
    },
    "tags": []
   },
   "outputs": [],
   "source": [
    "random_state = 12345\n",
    "splits = 10\n",
    "algorithms = []\n",
    "\n",
    "\n",
    "# do nested cross validatoin for hyperparamater optimization"
   ]
  },
  {
   "cell_type": "markdown",
   "id": "0499c2fe",
   "metadata": {
    "papermill": {
     "duration": 0.014949,
     "end_time": "2023-01-03T14:45:43.515662",
     "exception": false,
     "start_time": "2023-01-03T14:45:43.500713",
     "status": "completed"
    },
    "tags": []
   },
   "source": [
    "# Decision tree classifier"
   ]
  },
  {
   "cell_type": "code",
   "execution_count": 21,
   "id": "2d32d391",
   "metadata": {
    "execution": {
     "iopub.execute_input": "2023-01-03T14:45:43.549682Z",
     "iopub.status.busy": "2023-01-03T14:45:43.548170Z",
     "iopub.status.idle": "2023-01-03T14:45:50.862758Z",
     "shell.execute_reply": "2023-01-03T14:45:50.861696Z"
    },
    "papermill": {
     "duration": 7.333312,
     "end_time": "2023-01-03T14:45:50.865285",
     "exception": false,
     "start_time": "2023-01-03T14:45:43.531973",
     "status": "completed"
    },
    "tags": []
   },
   "outputs": [
    {
     "name": "stdout",
     "output_type": "stream",
     "text": [
      "Fitting 10 folds for each of 252 candidates, totalling 2520 fits\n"
     ]
    },
    {
     "data": {
      "text/plain": [
       "{'criterion': 'gini',\n",
       " 'max_depth': 6,\n",
       " 'min_samples_split': 15,\n",
       " 'splitter': 'best'}"
      ]
     },
     "execution_count": 21,
     "metadata": {},
     "output_type": "execute_result"
    }
   ],
   "source": [
    "# tune hyperparamters dtc\n",
    "params = {\n",
    "    'criterion':  ['gini', 'entropy'],\n",
    "    'max_depth':  [None, 2, 4, 6, 8, 10, 12, 14, 16],\n",
    "    'splitter': ['best', 'random'],\n",
    "    'min_samples_split': [2, 10, 15, 20, 25, 50, 100]\n",
    "}\n",
    "\n",
    "dtc = tree.DecisionTreeClassifier(random_state=random_state)\n",
    "gs_dtc = GridSearchCV(dtc,\n",
    "                      param_grid=params,\n",
    "                      scoring='accuracy',\n",
    "                      cv=10,\n",
    "                      refit = True,\n",
    "                      verbose=1)\n",
    "gs_dtc.fit(X, y)\n",
    "gs_dtc.best_params_"
   ]
  },
  {
   "cell_type": "markdown",
   "id": "e78a04b7",
   "metadata": {
    "papermill": {
     "duration": 0.014818,
     "end_time": "2023-01-03T14:45:50.895558",
     "exception": false,
     "start_time": "2023-01-03T14:45:50.880740",
     "status": "completed"
    },
    "tags": []
   },
   "source": [
    "# KNN"
   ]
  },
  {
   "cell_type": "code",
   "execution_count": 22,
   "id": "514b1e50",
   "metadata": {
    "execution": {
     "iopub.execute_input": "2023-01-03T14:45:50.926786Z",
     "iopub.status.busy": "2023-01-03T14:45:50.926368Z",
     "iopub.status.idle": "2023-01-03T14:45:51.971046Z",
     "shell.execute_reply": "2023-01-03T14:45:51.970118Z"
    },
    "papermill": {
     "duration": 1.06371,
     "end_time": "2023-01-03T14:45:51.973799",
     "exception": false,
     "start_time": "2023-01-03T14:45:50.910089",
     "status": "completed"
    },
    "tags": []
   },
   "outputs": [],
   "source": [
    "# tune hyperparamters knn\n",
    "\n",
    "k_range = list(range(1, 20))\n",
    "k_scores = []\n",
    "for k in k_range:    \n",
    "   knn = KNeighborsClassifier(n_neighbors=k)    \n",
    "   scores = cross_val_score(knn, X, y, cv=10, scoring='accuracy')\n",
    "   k_scores.append(scores.mean())"
   ]
  },
  {
   "cell_type": "code",
   "execution_count": 23,
   "id": "0f3c53a1",
   "metadata": {
    "execution": {
     "iopub.execute_input": "2023-01-03T14:45:52.005615Z",
     "iopub.status.busy": "2023-01-03T14:45:52.005210Z",
     "iopub.status.idle": "2023-01-03T14:45:52.207217Z",
     "shell.execute_reply": "2023-01-03T14:45:52.206203Z"
    },
    "papermill": {
     "duration": 0.220913,
     "end_time": "2023-01-03T14:45:52.209817",
     "exception": false,
     "start_time": "2023-01-03T14:45:51.988904",
     "status": "completed"
    },
    "tags": []
   },
   "outputs": [
    {
     "data": {
      "image/png": "[encoded data removed]",
      "text/plain": [
       "<Figure size 432x288 with 1 Axes>"
      ]
     },
     "metadata": {
      "needs_background": "light"
     },
     "output_type": "display_data"
    }
   ],
   "source": [
    "plt.plot(k_range, k_scores)\n",
    "plt.xlabel('Value of K for KNN')\n",
    "plt.ylabel('Cross-Validated Accuracy')\n",
    "plt.show()"
   ]
  },
  {
   "cell_type": "markdown",
   "id": "9f04502e",
   "metadata": {
    "papermill": {
     "duration": 0.014736,
     "end_time": "2023-01-03T14:45:52.239908",
     "exception": false,
     "start_time": "2023-01-03T14:45:52.225172",
     "status": "completed"
    },
    "tags": []
   },
   "source": [
    "+ it seems like k = 5 gives the best results for knn"
   ]
  },
  {
   "cell_type": "markdown",
   "id": "3126d983",
   "metadata": {
    "papermill": {
     "duration": 0.015747,
     "end_time": "2023-01-03T14:45:52.270893",
     "exception": false,
     "start_time": "2023-01-03T14:45:52.255146",
     "status": "completed"
    },
    "tags": []
   },
   "source": [
    "# Support Vector Machines"
   ]
  },
  {
   "cell_type": "code",
   "execution_count": 24,
   "id": "2c4fcc38",
   "metadata": {
    "execution": {
     "iopub.execute_input": "2023-01-03T14:45:52.304034Z",
     "iopub.status.busy": "2023-01-03T14:45:52.303554Z",
     "iopub.status.idle": "2023-01-03T14:46:11.539766Z",
     "shell.execute_reply": "2023-01-03T14:46:11.538554Z"
    },
    "papermill": {
     "duration": 19.256459,
     "end_time": "2023-01-03T14:46:11.542511",
     "exception": false,
     "start_time": "2023-01-03T14:45:52.286052",
     "status": "completed"
    },
    "tags": []
   },
   "outputs": [
    {
     "name": "stdout",
     "output_type": "stream",
     "text": [
      "Fitting 10 folds for each of 32 candidates, totalling 320 fits\n"
     ]
    },
    {
     "data": {
      "text/plain": [
       "{'C': 10, 'gamma': 0.1, 'kernel': 'rbf'}"
      ]
     },
     "execution_count": 24,
     "metadata": {},
     "output_type": "execute_result"
    }
   ],
   "source": [
    "# tune hyperparamters svm\n",
    "\n",
    "params = {'C': [0.1, 1, 10, 100], \n",
    "          'gamma': [1, 0.1, 0.01, 0.001],\n",
    "          'kernel': ['linear', 'rbf']} \n",
    "\n",
    "svm1 = svm.SVC(random_state=random_state)\n",
    "cv = StratifiedKFold(n_splits=splits, shuffle = True, random_state=random_state)\n",
    "gs_svm = GridSearchCV(svm1,\n",
    "                      param_grid=params,\n",
    "                      scoring='accuracy',\n",
    "                      cv=cv,\n",
    "                      refit = True,\n",
    "                      verbose=1)\n",
    "gs_svm.fit(X, y)\n",
    "gs_svm.best_params_"
   ]
  },
  {
   "cell_type": "markdown",
   "id": "b593acd7",
   "metadata": {
    "papermill": {
     "duration": 0.015574,
     "end_time": "2023-01-03T14:46:11.574063",
     "exception": false,
     "start_time": "2023-01-03T14:46:11.558489",
     "status": "completed"
    },
    "tags": []
   },
   "source": [
    "+ do cross validation because most efficient way\n",
    "+ do each model on it\n",
    "+ optimize DTC"
   ]
  },
  {
   "cell_type": "code",
   "execution_count": 25,
   "id": "21d1612c",
   "metadata": {
    "execution": {
     "iopub.execute_input": "2023-01-03T14:46:11.607242Z",
     "iopub.status.busy": "2023-01-03T14:46:11.606482Z",
     "iopub.status.idle": "2023-01-03T14:46:11.612280Z",
     "shell.execute_reply": "2023-01-03T14:46:11.611472Z"
    },
    "papermill": {
     "duration": 0.02505,
     "end_time": "2023-01-03T14:46:11.614576",
     "exception": false,
     "start_time": "2023-01-03T14:46:11.589526",
     "status": "completed"
    },
    "tags": []
   },
   "outputs": [],
   "source": [
    "\n",
    "algorithms.append(svm.SVC(random_state=random_state, C = 10, gamma = 0.1, kernel = 'rbf'))\n",
    "algorithms.append(tree.DecisionTreeClassifier(random_state=random_state, criterion= 'entropy', max_depth=6, splitter= 'best', min_samples_split = 15))\n",
    "algorithms.append(KNeighborsClassifier())\n",
    "\n",
    "algo_names = [\"SVM\", \"DTC\", \"KNN\"]"
   ]
  },
  {
   "cell_type": "code",
   "execution_count": 26,
   "id": "ab26c94c",
   "metadata": {
    "execution": {
     "iopub.execute_input": "2023-01-03T14:46:11.647341Z",
     "iopub.status.busy": "2023-01-03T14:46:11.646583Z",
     "iopub.status.idle": "2023-01-03T14:46:11.905814Z",
     "shell.execute_reply": "2023-01-03T14:46:11.904581Z"
    },
    "papermill": {
     "duration": 0.278352,
     "end_time": "2023-01-03T14:46:11.908303",
     "exception": false,
     "start_time": "2023-01-03T14:46:11.629951",
     "status": "completed"
    },
    "tags": []
   },
   "outputs": [],
   "source": [
    "y_true = []\n",
    "y_pred = []\n",
    "\n",
    "for i, classifier in enumerate(algorithms):\n",
    "    cv = StratifiedKFold(n_splits=splits, shuffle = True, random_state=random_state)\n",
    "    y_true.append([])\n",
    "    y_pred.append([])\n",
    "    for train, test in cv.split(X, y):\n",
    "        X_train, X_test, y_train, y_test = X[train], X[test], y[train], y[test]\n",
    "        classifier.fit(X_train, y_train)\n",
    "        y_true[i].append(y_test)\n",
    "        y_pred[i].append(classifier.predict(X_test))"
   ]
  },
  {
   "cell_type": "code",
   "execution_count": 27,
   "id": "ead90182",
   "metadata": {
    "execution": {
     "iopub.execute_input": "2023-01-03T14:46:11.941540Z",
     "iopub.status.busy": "2023-01-03T14:46:11.941087Z",
     "iopub.status.idle": "2023-01-03T14:46:11.948997Z",
     "shell.execute_reply": "2023-01-03T14:46:11.947708Z"
    },
    "papermill": {
     "duration": 0.027655,
     "end_time": "2023-01-03T14:46:11.951506",
     "exception": false,
     "start_time": "2023-01-03T14:46:11.923851",
     "status": "completed"
    },
    "tags": []
   },
   "outputs": [
    {
     "data": {
      "text/plain": [
       "\"\\nfig = plt.figure(figsize=(6,6))\\nfig.suptitle('Algorithm Comparison')\\nax = fig.add_subplot(111)\\nplt.boxplot(acc)\\nax.set_xticklabels(algo_names)\\nplt.show()\\n\""
      ]
     },
     "execution_count": 27,
     "metadata": {},
     "output_type": "execute_result"
    }
   ],
   "source": [
    "# boxplot algorithm comparison\n",
    "'''\n",
    "fig = plt.figure(figsize=(6,6))\n",
    "fig.suptitle('Algorithm Comparison')\n",
    "ax = fig.add_subplot(111)\n",
    "plt.boxplot(acc)\n",
    "ax.set_xticklabels(algo_names)\n",
    "plt.show()\n",
    "'''"
   ]
  },
  {
   "cell_type": "markdown",
   "id": "e5eb1ee6",
   "metadata": {
    "papermill": {
     "duration": 0.015253,
     "end_time": "2023-01-03T14:46:11.983396",
     "exception": false,
     "start_time": "2023-01-03T14:46:11.968143",
     "status": "completed"
    },
    "tags": []
   },
   "source": [
    "# Analysis"
   ]
  },
  {
   "cell_type": "code",
   "execution_count": 28,
   "id": "20f21282",
   "metadata": {
    "execution": {
     "iopub.execute_input": "2023-01-03T14:46:12.016633Z",
     "iopub.status.busy": "2023-01-03T14:46:12.015602Z",
     "iopub.status.idle": "2023-01-03T14:46:12.029210Z",
     "shell.execute_reply": "2023-01-03T14:46:12.028197Z"
    },
    "papermill": {
     "duration": 0.033103,
     "end_time": "2023-01-03T14:46:12.031937",
     "exception": false,
     "start_time": "2023-01-03T14:46:11.998834",
     "status": "completed"
    },
    "tags": []
   },
   "outputs": [],
   "source": [
    "# make nice table with basic stats of the accuracy score, so .describe() function to compare the clfs,for each classifier\n",
    "# plot accuracies \n",
    "acc = np.empty((splits, len(algorithms)), dtype=float)\n",
    "for i, classifier in enumerate(algorithms):\n",
    "    for j in range(splits):\n",
    "        acc[j][i] = accuracy_score(y_true[i][j], y_pred[i][j])\n",
    "results = pd.DataFrame(acc, columns = algo_names)"
   ]
  },
  {
   "cell_type": "code",
   "execution_count": 29,
   "id": "116a9127",
   "metadata": {
    "execution": {
     "iopub.execute_input": "2023-01-03T14:46:12.066316Z",
     "iopub.status.busy": "2023-01-03T14:46:12.065939Z",
     "iopub.status.idle": "2023-01-03T14:46:12.087460Z",
     "shell.execute_reply": "2023-01-03T14:46:12.086358Z"
    },
    "papermill": {
     "duration": 0.041552,
     "end_time": "2023-01-03T14:46:12.090088",
     "exception": false,
     "start_time": "2023-01-03T14:46:12.048536",
     "status": "completed"
    },
    "tags": []
   },
   "outputs": [
    {
     "data": {
      "text/html": [
       "<div>\n",
       "<style scoped>\n",
       "    .dataframe tbody tr th:only-of-type {\n",
       "        vertical-align: middle;\n",
       "    }\n",
       "\n",
       "    .dataframe tbody tr th {\n",
       "        vertical-align: top;\n",
       "    }\n",
       "\n",
       "    .dataframe thead th {\n",
       "        text-align: right;\n",
       "    }\n",
       "</style>\n",
       "<table border=\"1\" class=\"dataframe\">\n",
       "  <thead>\n",
       "    <tr style=\"text-align: right;\">\n",
       "      <th></th>\n",
       "      <th>SVM</th>\n",
       "      <th>DTC</th>\n",
       "      <th>KNN</th>\n",
       "    </tr>\n",
       "  </thead>\n",
       "  <tbody>\n",
       "    <tr>\n",
       "      <th>count</th>\n",
       "      <td>10.000000</td>\n",
       "      <td>10.000000</td>\n",
       "      <td>10.000000</td>\n",
       "    </tr>\n",
       "    <tr>\n",
       "      <th>mean</th>\n",
       "      <td>0.847642</td>\n",
       "      <td>0.873616</td>\n",
       "      <td>0.856647</td>\n",
       "    </tr>\n",
       "    <tr>\n",
       "      <th>std</th>\n",
       "      <td>0.043893</td>\n",
       "      <td>0.040050</td>\n",
       "      <td>0.041262</td>\n",
       "    </tr>\n",
       "    <tr>\n",
       "      <th>min</th>\n",
       "      <td>0.792208</td>\n",
       "      <td>0.805195</td>\n",
       "      <td>0.789474</td>\n",
       "    </tr>\n",
       "    <tr>\n",
       "      <th>25%</th>\n",
       "      <td>0.808442</td>\n",
       "      <td>0.842105</td>\n",
       "      <td>0.835996</td>\n",
       "    </tr>\n",
       "    <tr>\n",
       "      <th>50%</th>\n",
       "      <td>0.844156</td>\n",
       "      <td>0.889610</td>\n",
       "      <td>0.863636</td>\n",
       "    </tr>\n",
       "    <tr>\n",
       "      <th>75%</th>\n",
       "      <td>0.882732</td>\n",
       "      <td>0.905844</td>\n",
       "      <td>0.870130</td>\n",
       "    </tr>\n",
       "    <tr>\n",
       "      <th>max</th>\n",
       "      <td>0.922078</td>\n",
       "      <td>0.922078</td>\n",
       "      <td>0.935065</td>\n",
       "    </tr>\n",
       "  </tbody>\n",
       "</table>\n",
       "</div>"
      ],
      "text/plain": [
       "             SVM        DTC        KNN\n",
       "count  10.000000  10.000000  10.000000\n",
       "mean    0.847642   0.873616   0.856647\n",
       "std     0.043893   0.040050   0.041262\n",
       "min     0.792208   0.805195   0.789474\n",
       "25%     0.808442   0.842105   0.835996\n",
       "50%     0.844156   0.889610   0.863636\n",
       "75%     0.882732   0.905844   0.870130\n",
       "max     0.922078   0.922078   0.935065"
      ]
     },
     "execution_count": 29,
     "metadata": {},
     "output_type": "execute_result"
    }
   ],
   "source": [
    "results.describe()"
   ]
  },
  {
   "cell_type": "code",
   "execution_count": 30,
   "id": "96f0a53b",
   "metadata": {
    "execution": {
     "iopub.execute_input": "2023-01-03T14:46:12.123600Z",
     "iopub.status.busy": "2023-01-03T14:46:12.123158Z",
     "iopub.status.idle": "2023-01-03T14:46:12.135660Z",
     "shell.execute_reply": "2023-01-03T14:46:12.134490Z"
    },
    "papermill": {
     "duration": 0.031527,
     "end_time": "2023-01-03T14:46:12.137977",
     "exception": false,
     "start_time": "2023-01-03T14:46:12.106450",
     "status": "completed"
    },
    "tags": []
   },
   "outputs": [
    {
     "data": {
      "text/html": [
       "<div>\n",
       "<style scoped>\n",
       "    .dataframe tbody tr th:only-of-type {\n",
       "        vertical-align: middle;\n",
       "    }\n",
       "\n",
       "    .dataframe tbody tr th {\n",
       "        vertical-align: top;\n",
       "    }\n",
       "\n",
       "    .dataframe thead th {\n",
       "        text-align: right;\n",
       "    }\n",
       "</style>\n",
       "<table border=\"1\" class=\"dataframe\">\n",
       "  <thead>\n",
       "    <tr style=\"text-align: right;\">\n",
       "      <th></th>\n",
       "      <th>SVM</th>\n",
       "      <th>DTC</th>\n",
       "      <th>KNN</th>\n",
       "    </tr>\n",
       "  </thead>\n",
       "  <tbody>\n",
       "    <tr>\n",
       "      <th>0</th>\n",
       "      <td>0.818182</td>\n",
       "      <td>0.896104</td>\n",
       "      <td>0.805195</td>\n",
       "    </tr>\n",
       "    <tr>\n",
       "      <th>1</th>\n",
       "      <td>0.805195</td>\n",
       "      <td>0.883117</td>\n",
       "      <td>0.870130</td>\n",
       "    </tr>\n",
       "    <tr>\n",
       "      <th>2</th>\n",
       "      <td>0.883117</td>\n",
       "      <td>0.896104</td>\n",
       "      <td>0.870130</td>\n",
       "    </tr>\n",
       "    <tr>\n",
       "      <th>3</th>\n",
       "      <td>0.792208</td>\n",
       "      <td>0.805195</td>\n",
       "      <td>0.857143</td>\n",
       "    </tr>\n",
       "    <tr>\n",
       "      <th>4</th>\n",
       "      <td>0.857143</td>\n",
       "      <td>0.831169</td>\n",
       "      <td>0.883117</td>\n",
       "    </tr>\n",
       "    <tr>\n",
       "      <th>5</th>\n",
       "      <td>0.883117</td>\n",
       "      <td>0.922078</td>\n",
       "      <td>0.857143</td>\n",
       "    </tr>\n",
       "    <tr>\n",
       "      <th>6</th>\n",
       "      <td>0.922078</td>\n",
       "      <td>0.909091</td>\n",
       "      <td>0.935065</td>\n",
       "    </tr>\n",
       "    <tr>\n",
       "      <th>7</th>\n",
       "      <td>0.831169</td>\n",
       "      <td>0.909091</td>\n",
       "      <td>0.870130</td>\n",
       "    </tr>\n",
       "    <tr>\n",
       "      <th>8</th>\n",
       "      <td>0.881579</td>\n",
       "      <td>0.842105</td>\n",
       "      <td>0.789474</td>\n",
       "    </tr>\n",
       "    <tr>\n",
       "      <th>9</th>\n",
       "      <td>0.802632</td>\n",
       "      <td>0.842105</td>\n",
       "      <td>0.828947</td>\n",
       "    </tr>\n",
       "  </tbody>\n",
       "</table>\n",
       "</div>"
      ],
      "text/plain": [
       "        SVM       DTC       KNN\n",
       "0  0.818182  0.896104  0.805195\n",
       "1  0.805195  0.883117  0.870130\n",
       "2  0.883117  0.896104  0.870130\n",
       "3  0.792208  0.805195  0.857143\n",
       "4  0.857143  0.831169  0.883117\n",
       "5  0.883117  0.922078  0.857143\n",
       "6  0.922078  0.909091  0.935065\n",
       "7  0.831169  0.909091  0.870130\n",
       "8  0.881579  0.842105  0.789474\n",
       "9  0.802632  0.842105  0.828947"
      ]
     },
     "metadata": {},
     "output_type": "display_data"
    }
   ],
   "source": [
    "display(results)"
   ]
  },
  {
   "cell_type": "code",
   "execution_count": 31,
   "id": "18548da5",
   "metadata": {
    "execution": {
     "iopub.execute_input": "2023-01-03T14:46:12.172087Z",
     "iopub.status.busy": "2023-01-03T14:46:12.171241Z",
     "iopub.status.idle": "2023-01-03T14:46:12.944304Z",
     "shell.execute_reply": "2023-01-03T14:46:12.943054Z"
    },
    "papermill": {
     "duration": 0.793243,
     "end_time": "2023-01-03T14:46:12.946878",
     "exception": false,
     "start_time": "2023-01-03T14:46:12.153635",
     "status": "completed"
    },
    "tags": []
   },
   "outputs": [
    {
     "data": {
      "image/png": "[encoded data removed]",
      "text/plain": [
       "<Figure size 432x288 with 2 Axes>"
      ]
     },
     "metadata": {
      "needs_background": "light"
     },
     "output_type": "display_data"
    },
    {
     "data": {
      "image/png": "[encoded data removed]",
      "text/plain": [
       "<Figure size 432x288 with 2 Axes>"
      ]
     },
     "metadata": {
      "needs_background": "light"
     },
     "output_type": "display_data"
    },
    {
     "data": {
      "image/png": "[encoded data removed]",
      "text/plain": [
       "<Figure size 432x288 with 2 Axes>"
      ]
     },
     "metadata": {
      "needs_background": "light"
     },
     "output_type": "display_data"
    }
   ],
   "source": [
    "# plot confusion matrices TODO: use confusion_matrix and just plot it nicely\n",
    "\n",
    "for i, classifier in enumerate(algorithms):\n",
    "    y_true_flat = list(np.concatenate(y_true[i]).flat)\n",
    "    y_pred_flat = list(np.concatenate(y_pred[i]).flat)\n",
    "\n",
    "    ConfusionMatrixDisplay.from_predictions(y_true_flat, y_pred_flat, display_labels=['True','False'])"
   ]
  },
  {
   "cell_type": "code",
   "execution_count": 32,
   "id": "2b2ef602",
   "metadata": {
    "execution": {
     "iopub.execute_input": "2023-01-03T14:46:12.984742Z",
     "iopub.status.busy": "2023-01-03T14:46:12.984270Z",
     "iopub.status.idle": "2023-01-03T14:46:14.472185Z",
     "shell.execute_reply": "2023-01-03T14:46:14.470692Z"
    },
    "papermill": {
     "duration": 1.510471,
     "end_time": "2023-01-03T14:46:14.475177",
     "exception": false,
     "start_time": "2023-01-03T14:46:12.964706",
     "status": "completed"
    },
    "tags": []
   },
   "outputs": [
    {
     "data": {
      "image/png": "[encoded data removed]",
      "text/plain": [
       "<Figure size 432x432 with 1 Axes>"
      ]
     },
     "metadata": {
      "needs_background": "light"
     },
     "output_type": "display_data"
    },
    {
     "data": {
      "image/png": "[encoded data removed]",
      "text/plain": [
       "<Figure size 432x432 with 1 Axes>"
      ]
     },
     "metadata": {
      "needs_background": "light"
     },
     "output_type": "display_data"
    },
    {
     "data": {
      "image/png": "[encoded data removed]",
      "text/plain": [
       "<Figure size 432x432 with 1 Axes>"
      ]
     },
     "metadata": {
      "needs_background": "light"
     },
     "output_type": "display_data"
    }
   ],
   "source": [
    "#plot roc curves\n",
    "for i, classifier in enumerate(algorithms):\n",
    "    tprs = []\n",
    "    aucs = []\n",
    "    mean_fpr = np.linspace(0, 1, 100)\n",
    "    fig, ax = plt.subplots(figsize=(6, 6))\n",
    "\n",
    "    for fold in range(splits):\n",
    "        viz = RocCurveDisplay.from_predictions(\n",
    "            y_true[i][fold],\n",
    "            y_pred[i][fold],\n",
    "            name=f\"ROC fold {fold}\",\n",
    "            alpha=0.3,\n",
    "            lw=1,\n",
    "            ax=ax,\n",
    "        )\n",
    "        interp_tpr = np.interp(mean_fpr, viz.fpr, viz.tpr)\n",
    "        interp_tpr[0] = 0.0\n",
    "        tprs.append(interp_tpr)\n",
    "        aucs.append(viz.roc_auc)\n",
    "\n",
    "    ax.plot([0, 1], [0, 1], \"k--\", label=\"chance level (AUC = 0.5)\")\n",
    "\n",
    "    mean_tpr = np.mean(tprs, axis=0)\n",
    "    mean_tpr[-1] = 1.0\n",
    "    mean_auc = auc(mean_fpr, mean_tpr)\n",
    "    std_auc = np.std(aucs)\n",
    "    ax.plot(\n",
    "        mean_fpr,\n",
    "        mean_tpr,\n",
    "        color=\"b\",\n",
    "        label=r\"Mean ROC (AUC = %0.2f $\\pm$ %0.2f)\" % (mean_auc, std_auc),\n",
    "        lw=2,\n",
    "        alpha=0.8,\n",
    "    )\n",
    "\n",
    "    std_tpr = np.std(tprs, axis=0)\n",
    "    tprs_upper = np.minimum(mean_tpr + std_tpr, 1)\n",
    "    tprs_lower = np.maximum(mean_tpr - std_tpr, 0)\n",
    "    ax.fill_between(\n",
    "        mean_fpr,\n",
    "        tprs_lower,\n",
    "        tprs_upper,\n",
    "        color=\"grey\",\n",
    "        alpha=0.2,\n",
    "        label=r\"$\\pm$ 1 std. dev.\",\n",
    "    )\n",
    "\n",
    "    ax.set(\n",
    "        xlim=[-0.05, 1.05],\n",
    "        ylim=[-0.05, 1.05],\n",
    "        xlabel=\"False Positive Rate\",\n",
    "        ylabel=\"True Positive Rate\",\n",
    "        title=f\"Mean ROC curve with variability\\nFor '{algo_names[i]}'\",\n",
    "    )\n",
    "    ax.axis(\"square\")\n",
    "    ax.legend(loc=\"lower right\")\n",
    "    plt.show()"
   ]
  },
  {
   "cell_type": "code",
   "execution_count": 33,
   "id": "962ba7b2",
   "metadata": {
    "execution": {
     "iopub.execute_input": "2023-01-03T14:46:14.517592Z",
     "iopub.status.busy": "2023-01-03T14:46:14.517174Z",
     "iopub.status.idle": "2023-01-03T14:46:14.521719Z",
     "shell.execute_reply": "2023-01-03T14:46:14.520844Z"
    },
    "papermill": {
     "duration": 0.028193,
     "end_time": "2023-01-03T14:46:14.523952",
     "exception": false,
     "start_time": "2023-01-03T14:46:14.495759",
     "status": "completed"
    },
    "tags": []
   },
   "outputs": [],
   "source": [
    "# sign test"
   ]
  },
  {
   "cell_type": "code",
   "execution_count": 34,
   "id": "a9a1fb2a",
   "metadata": {
    "execution": {
     "iopub.execute_input": "2023-01-03T14:46:14.565802Z",
     "iopub.status.busy": "2023-01-03T14:46:14.565006Z",
     "iopub.status.idle": "2023-01-03T14:46:14.772731Z",
     "shell.execute_reply": "2023-01-03T14:46:14.771498Z"
    },
    "papermill": {
     "duration": 0.231485,
     "end_time": "2023-01-03T14:46:14.775383",
     "exception": false,
     "start_time": "2023-01-03T14:46:14.543898",
     "status": "completed"
    },
    "tags": []
   },
   "outputs": [
    {
     "data": {
      "image/png": "[encoded data removed]",
      "text/plain": [
       "<Figure size 432x432 with 1 Axes>"
      ]
     },
     "metadata": {
      "needs_background": "light"
     },
     "output_type": "display_data"
    }
   ],
   "source": [
    "#plot boxplots\n",
    "\n",
    "# boxplot algorithm comparison\n",
    "fig = plt.figure(figsize=(6,6))\n",
    "fig.suptitle('Algorithm Comparison')\n",
    "ax = fig.add_subplot(111)\n",
    "plt.boxplot(acc)\n",
    "ax.set_xticklabels(algo_names)\n",
    "plt.show()"
   ]
  }
 ],
 "metadata": {
  "kernelspec": {
   "display_name": "Python 3",
   "language": "python",
   "name": "python3"
  },
  "language_info": {
   "codemirror_mode": {
    "name": "ipython",
    "version": 3
   },
   "file_extension": ".py",
   "mimetype": "text/x-python",
   "name": "python",
   "nbconvert_exporter": "python",
   "pygments_lexer": "ipython3",
   "version": "3.7.12"
  },
  "papermill": {
   "default_parameters": {},
   "duration": 47.324546,
   "end_time": "2023-01-03T14:46:15.620082",
   "environment_variables": {},
   "exception": null,
   "input_path": "__notebook__.ipynb",
   "output_path": "__notebook__.ipynb",
   "parameters": {},
   "start_time": "2023-01-03T14:45:28.295536",
   "version": "2.3.4"
  }
 },
 "nbformat": 4,
 "nbformat_minor": 5
}
