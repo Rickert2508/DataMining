{
 "cells": [
  {
   "cell_type": "markdown",
   "id": "c49c3af9",
   "metadata": {
    "papermill": {
     "duration": 0.008179,
     "end_time": "2022-12-17T18:36:31.988139",
     "exception": false,
     "start_time": "2022-12-17T18:36:31.979960",
     "status": "completed"
    },
    "tags": []
   },
   "source": [
    "# 'Problem' Project on Diabetes Classification\n",
    "\n",
    "+ Pregnancies: Number of times pregnant\n",
    "+ Glucose: Plasma glucose concentration a 2 hours in an oral glucose tolerance test\n",
    "+ BloodPressure: Diastolic blood pressure (mm Hg)\n",
    "+ SkinThickness: Triceps skin fold thickness (mm)\n",
    "+ Insulin: 2-Hour serum insulin (mu U/ml)\n",
    "+ BMI: Body mass index (weight in kg/(height in m)^2)\n",
    "+ DiabetesPedigreeFunction: Diabetes pedigree function\n",
    "+ Age: Age (years)\n",
    "+ Outcome: Class variable (0 or 1)\n",
    "\n",
    "\n",
    "## Contents\n",
    "\n",
    "+ Preprocessing and data exploration\n",
    "+ split data in training and test\n",
    "+ SVM\n",
    "+ K-nn\n",
    "+ C4.5\n",
    "+ compare results (matrix, accuracy, graph the ROC)\n",
    "+ conclusion\n",
    "+ \n",
    "+ Installing\n",
    "+ EDA (basic understanding of data)\n",
    "+ missing value fix (mean or median for all 1 and 0 classes)\n",
    "+ outlier analysis\n",
    "+ final preprocessing thing\n",
    "+ \n",
    "+ Model\n",
    "+ \n",
    "+ Model analysis"
   ]
  },
  {
   "cell_type": "markdown",
   "id": "39005f04",
   "metadata": {
    "papermill": {
     "duration": 0.006454,
     "end_time": "2022-12-17T18:36:32.001479",
     "exception": false,
     "start_time": "2022-12-17T18:36:31.995025",
     "status": "completed"
    },
    "tags": []
   },
   "source": [
    "# Data Exploration\n",
    "+ check if any missing values (missing data)\n",
    "+ check the data types (is it numerical)\n",
    "+ check number of outcome (is it suitable between 1 and 0)\n",
    "+ handle zero values\n",
    "+ explore the data with graphs\n",
    "+ outlier handling\n",
    "+ explore data again and have clear dataset"
   ]
  },
  {
   "cell_type": "markdown",
   "id": "a72d4d89",
   "metadata": {
    "papermill": {
     "duration": 0.006588,
     "end_time": "2022-12-17T18:36:32.014813",
     "exception": false,
     "start_time": "2022-12-17T18:36:32.008225",
     "status": "completed"
    },
    "tags": []
   },
   "source": [
    "# 1. Initialization"
   ]
  },
  {
   "cell_type": "code",
   "execution_count": 1,
   "id": "8773812d",
   "metadata": {
    "execution": {
     "iopub.execute_input": "2022-12-17T18:36:32.030762Z",
     "iopub.status.busy": "2022-12-17T18:36:32.030156Z",
     "iopub.status.idle": "2022-12-17T18:36:33.434203Z",
     "shell.execute_reply": "2022-12-17T18:36:33.432961Z"
    },
    "papermill": {
     "duration": 1.415525,
     "end_time": "2022-12-17T18:36:33.437215",
     "exception": false,
     "start_time": "2022-12-17T18:36:32.021690",
     "status": "completed"
    },
    "tags": []
   },
   "outputs": [],
   "source": [
    "# import all necessary libraries\n",
    "import numpy as np\n",
    "import pandas as pd\n",
    "import matplotlib.pyplot as plt\n",
    "from sklearn import svm\n",
    "from sklearn.model_selection import StratifiedKFold\n",
    "from sklearn.neighbors import KNeighborsClassifier\n",
    "from sklearn import tree\n",
    "from sklearn.model_selection import train_test_split\n",
    "from sklearn.metrics import accuracy_score"
   ]
  },
  {
   "cell_type": "markdown",
   "id": "58a764f2",
   "metadata": {
    "papermill": {
     "duration": 0.006522,
     "end_time": "2022-12-17T18:36:33.450888",
     "exception": false,
     "start_time": "2022-12-17T18:36:33.444366",
     "status": "completed"
    },
    "tags": []
   },
   "source": [
    "# 2. Data Preprocessing\n",
    "\n",
    "## 2.1 Exploratory Data Analysis"
   ]
  },
  {
   "cell_type": "code",
   "execution_count": 2,
   "id": "8a8452d1",
   "metadata": {
    "execution": {
     "iopub.execute_input": "2022-12-17T18:36:33.466839Z",
     "iopub.status.busy": "2022-12-17T18:36:33.465828Z",
     "iopub.status.idle": "2022-12-17T18:36:33.497836Z",
     "shell.execute_reply": "2022-12-17T18:36:33.496516Z"
    },
    "papermill": {
     "duration": 0.043117,
     "end_time": "2022-12-17T18:36:33.500833",
     "exception": false,
     "start_time": "2022-12-17T18:36:33.457716",
     "status": "completed"
    },
    "tags": []
   },
   "outputs": [],
   "source": [
    "diabetes_data = pd.read_csv(\"../input/diabetes-data-set/diabetes.csv\")\n",
    "column_names = diabetes_data.columns.to_numpy()"
   ]
  },
  {
   "cell_type": "code",
   "execution_count": 3,
   "id": "153e6c1b",
   "metadata": {
    "execution": {
     "iopub.execute_input": "2022-12-17T18:36:33.517294Z",
     "iopub.status.busy": "2022-12-17T18:36:33.516465Z",
     "iopub.status.idle": "2022-12-17T18:36:33.540580Z",
     "shell.execute_reply": "2022-12-17T18:36:33.539275Z"
    },
    "papermill": {
     "duration": 0.035024,
     "end_time": "2022-12-17T18:36:33.543065",
     "exception": false,
     "start_time": "2022-12-17T18:36:33.508041",
     "status": "completed"
    },
    "scrolled": true,
    "tags": []
   },
   "outputs": [
    {
     "data": {
      "text/html": [
       "<div>\n",
       "<style scoped>\n",
       "    .dataframe tbody tr th:only-of-type {\n",
       "        vertical-align: middle;\n",
       "    }\n",
       "\n",
       "    .dataframe tbody tr th {\n",
       "        vertical-align: top;\n",
       "    }\n",
       "\n",
       "    .dataframe thead th {\n",
       "        text-align: right;\n",
       "    }\n",
       "</style>\n",
       "<table border=\"1\" class=\"dataframe\">\n",
       "  <thead>\n",
       "    <tr style=\"text-align: right;\">\n",
       "      <th></th>\n",
       "      <th>Pregnancies</th>\n",
       "      <th>Glucose</th>\n",
       "      <th>BloodPressure</th>\n",
       "      <th>SkinThickness</th>\n",
       "      <th>Insulin</th>\n",
       "      <th>BMI</th>\n",
       "      <th>DiabetesPedigreeFunction</th>\n",
       "      <th>Age</th>\n",
       "      <th>Outcome</th>\n",
       "    </tr>\n",
       "  </thead>\n",
       "  <tbody>\n",
       "    <tr>\n",
       "      <th>0</th>\n",
       "      <td>6</td>\n",
       "      <td>148</td>\n",
       "      <td>72</td>\n",
       "      <td>35</td>\n",
       "      <td>0</td>\n",
       "      <td>33.6</td>\n",
       "      <td>0.627</td>\n",
       "      <td>50</td>\n",
       "      <td>1</td>\n",
       "    </tr>\n",
       "    <tr>\n",
       "      <th>1</th>\n",
       "      <td>1</td>\n",
       "      <td>85</td>\n",
       "      <td>66</td>\n",
       "      <td>29</td>\n",
       "      <td>0</td>\n",
       "      <td>26.6</td>\n",
       "      <td>0.351</td>\n",
       "      <td>31</td>\n",
       "      <td>0</td>\n",
       "    </tr>\n",
       "    <tr>\n",
       "      <th>2</th>\n",
       "      <td>8</td>\n",
       "      <td>183</td>\n",
       "      <td>64</td>\n",
       "      <td>0</td>\n",
       "      <td>0</td>\n",
       "      <td>23.3</td>\n",
       "      <td>0.672</td>\n",
       "      <td>32</td>\n",
       "      <td>1</td>\n",
       "    </tr>\n",
       "    <tr>\n",
       "      <th>3</th>\n",
       "      <td>1</td>\n",
       "      <td>89</td>\n",
       "      <td>66</td>\n",
       "      <td>23</td>\n",
       "      <td>94</td>\n",
       "      <td>28.1</td>\n",
       "      <td>0.167</td>\n",
       "      <td>21</td>\n",
       "      <td>0</td>\n",
       "    </tr>\n",
       "    <tr>\n",
       "      <th>4</th>\n",
       "      <td>0</td>\n",
       "      <td>137</td>\n",
       "      <td>40</td>\n",
       "      <td>35</td>\n",
       "      <td>168</td>\n",
       "      <td>43.1</td>\n",
       "      <td>2.288</td>\n",
       "      <td>33</td>\n",
       "      <td>1</td>\n",
       "    </tr>\n",
       "  </tbody>\n",
       "</table>\n",
       "</div>"
      ],
      "text/plain": [
       "   Pregnancies  Glucose  BloodPressure  SkinThickness  Insulin   BMI  \\\n",
       "0            6      148             72             35        0  33.6   \n",
       "1            1       85             66             29        0  26.6   \n",
       "2            8      183             64              0        0  23.3   \n",
       "3            1       89             66             23       94  28.1   \n",
       "4            0      137             40             35      168  43.1   \n",
       "\n",
       "   DiabetesPedigreeFunction  Age  Outcome  \n",
       "0                     0.627   50        1  \n",
       "1                     0.351   31        0  \n",
       "2                     0.672   32        1  \n",
       "3                     0.167   21        0  \n",
       "4                     2.288   33        1  "
      ]
     },
     "execution_count": 3,
     "metadata": {},
     "output_type": "execute_result"
    }
   ],
   "source": [
    "diabetes_data.head()"
   ]
  },
  {
   "cell_type": "code",
   "execution_count": 4,
   "id": "e70f5aac",
   "metadata": {
    "execution": {
     "iopub.execute_input": "2022-12-17T18:36:33.560589Z",
     "iopub.status.busy": "2022-12-17T18:36:33.560206Z",
     "iopub.status.idle": "2022-12-17T18:36:33.587700Z",
     "shell.execute_reply": "2022-12-17T18:36:33.585384Z"
    },
    "papermill": {
     "duration": 0.039912,
     "end_time": "2022-12-17T18:36:33.591560",
     "exception": false,
     "start_time": "2022-12-17T18:36:33.551648",
     "status": "completed"
    },
    "tags": []
   },
   "outputs": [
    {
     "name": "stdout",
     "output_type": "stream",
     "text": [
      "<class 'pandas.core.frame.DataFrame'>\n",
      "RangeIndex: 768 entries, 0 to 767\n",
      "Data columns (total 9 columns):\n",
      " #   Column                    Non-Null Count  Dtype  \n",
      "---  ------                    --------------  -----  \n",
      " 0   Pregnancies               768 non-null    int64  \n",
      " 1   Glucose                   768 non-null    int64  \n",
      " 2   BloodPressure             768 non-null    int64  \n",
      " 3   SkinThickness             768 non-null    int64  \n",
      " 4   Insulin                   768 non-null    int64  \n",
      " 5   BMI                       768 non-null    float64\n",
      " 6   DiabetesPedigreeFunction  768 non-null    float64\n",
      " 7   Age                       768 non-null    int64  \n",
      " 8   Outcome                   768 non-null    int64  \n",
      "dtypes: float64(2), int64(7)\n",
      "memory usage: 54.1 KB\n"
     ]
    }
   ],
   "source": [
    "diabetes_data.info()"
   ]
  },
  {
   "cell_type": "code",
   "execution_count": 5,
   "id": "54d6355a",
   "metadata": {
    "execution": {
     "iopub.execute_input": "2022-12-17T18:36:33.611257Z",
     "iopub.status.busy": "2022-12-17T18:36:33.610859Z",
     "iopub.status.idle": "2022-12-17T18:36:33.657232Z",
     "shell.execute_reply": "2022-12-17T18:36:33.654939Z"
    },
    "papermill": {
     "duration": 0.060919,
     "end_time": "2022-12-17T18:36:33.660752",
     "exception": false,
     "start_time": "2022-12-17T18:36:33.599833",
     "status": "completed"
    },
    "tags": []
   },
   "outputs": [
    {
     "data": {
      "text/html": [
       "<div>\n",
       "<style scoped>\n",
       "    .dataframe tbody tr th:only-of-type {\n",
       "        vertical-align: middle;\n",
       "    }\n",
       "\n",
       "    .dataframe tbody tr th {\n",
       "        vertical-align: top;\n",
       "    }\n",
       "\n",
       "    .dataframe thead th {\n",
       "        text-align: right;\n",
       "    }\n",
       "</style>\n",
       "<table border=\"1\" class=\"dataframe\">\n",
       "  <thead>\n",
       "    <tr style=\"text-align: right;\">\n",
       "      <th></th>\n",
       "      <th>Pregnancies</th>\n",
       "      <th>Glucose</th>\n",
       "      <th>BloodPressure</th>\n",
       "      <th>SkinThickness</th>\n",
       "      <th>Insulin</th>\n",
       "      <th>BMI</th>\n",
       "      <th>DiabetesPedigreeFunction</th>\n",
       "      <th>Age</th>\n",
       "      <th>Outcome</th>\n",
       "    </tr>\n",
       "  </thead>\n",
       "  <tbody>\n",
       "    <tr>\n",
       "      <th>count</th>\n",
       "      <td>768.000000</td>\n",
       "      <td>768.000000</td>\n",
       "      <td>768.000000</td>\n",
       "      <td>768.000000</td>\n",
       "      <td>768.000000</td>\n",
       "      <td>768.000000</td>\n",
       "      <td>768.000000</td>\n",
       "      <td>768.000000</td>\n",
       "      <td>768.000000</td>\n",
       "    </tr>\n",
       "    <tr>\n",
       "      <th>mean</th>\n",
       "      <td>3.845052</td>\n",
       "      <td>120.894531</td>\n",
       "      <td>69.105469</td>\n",
       "      <td>20.536458</td>\n",
       "      <td>79.799479</td>\n",
       "      <td>31.992578</td>\n",
       "      <td>0.471876</td>\n",
       "      <td>33.240885</td>\n",
       "      <td>0.348958</td>\n",
       "    </tr>\n",
       "    <tr>\n",
       "      <th>std</th>\n",
       "      <td>3.369578</td>\n",
       "      <td>31.972618</td>\n",
       "      <td>19.355807</td>\n",
       "      <td>15.952218</td>\n",
       "      <td>115.244002</td>\n",
       "      <td>7.884160</td>\n",
       "      <td>0.331329</td>\n",
       "      <td>11.760232</td>\n",
       "      <td>0.476951</td>\n",
       "    </tr>\n",
       "    <tr>\n",
       "      <th>min</th>\n",
       "      <td>0.000000</td>\n",
       "      <td>0.000000</td>\n",
       "      <td>0.000000</td>\n",
       "      <td>0.000000</td>\n",
       "      <td>0.000000</td>\n",
       "      <td>0.000000</td>\n",
       "      <td>0.078000</td>\n",
       "      <td>21.000000</td>\n",
       "      <td>0.000000</td>\n",
       "    </tr>\n",
       "    <tr>\n",
       "      <th>25%</th>\n",
       "      <td>1.000000</td>\n",
       "      <td>99.000000</td>\n",
       "      <td>62.000000</td>\n",
       "      <td>0.000000</td>\n",
       "      <td>0.000000</td>\n",
       "      <td>27.300000</td>\n",
       "      <td>0.243750</td>\n",
       "      <td>24.000000</td>\n",
       "      <td>0.000000</td>\n",
       "    </tr>\n",
       "    <tr>\n",
       "      <th>50%</th>\n",
       "      <td>3.000000</td>\n",
       "      <td>117.000000</td>\n",
       "      <td>72.000000</td>\n",
       "      <td>23.000000</td>\n",
       "      <td>30.500000</td>\n",
       "      <td>32.000000</td>\n",
       "      <td>0.372500</td>\n",
       "      <td>29.000000</td>\n",
       "      <td>0.000000</td>\n",
       "    </tr>\n",
       "    <tr>\n",
       "      <th>75%</th>\n",
       "      <td>6.000000</td>\n",
       "      <td>140.250000</td>\n",
       "      <td>80.000000</td>\n",
       "      <td>32.000000</td>\n",
       "      <td>127.250000</td>\n",
       "      <td>36.600000</td>\n",
       "      <td>0.626250</td>\n",
       "      <td>41.000000</td>\n",
       "      <td>1.000000</td>\n",
       "    </tr>\n",
       "    <tr>\n",
       "      <th>max</th>\n",
       "      <td>17.000000</td>\n",
       "      <td>199.000000</td>\n",
       "      <td>122.000000</td>\n",
       "      <td>99.000000</td>\n",
       "      <td>846.000000</td>\n",
       "      <td>67.100000</td>\n",
       "      <td>2.420000</td>\n",
       "      <td>81.000000</td>\n",
       "      <td>1.000000</td>\n",
       "    </tr>\n",
       "  </tbody>\n",
       "</table>\n",
       "</div>"
      ],
      "text/plain": [
       "       Pregnancies     Glucose  BloodPressure  SkinThickness     Insulin  \\\n",
       "count   768.000000  768.000000     768.000000     768.000000  768.000000   \n",
       "mean      3.845052  120.894531      69.105469      20.536458   79.799479   \n",
       "std       3.369578   31.972618      19.355807      15.952218  115.244002   \n",
       "min       0.000000    0.000000       0.000000       0.000000    0.000000   \n",
       "25%       1.000000   99.000000      62.000000       0.000000    0.000000   \n",
       "50%       3.000000  117.000000      72.000000      23.000000   30.500000   \n",
       "75%       6.000000  140.250000      80.000000      32.000000  127.250000   \n",
       "max      17.000000  199.000000     122.000000      99.000000  846.000000   \n",
       "\n",
       "              BMI  DiabetesPedigreeFunction         Age     Outcome  \n",
       "count  768.000000                768.000000  768.000000  768.000000  \n",
       "mean    31.992578                  0.471876   33.240885    0.348958  \n",
       "std      7.884160                  0.331329   11.760232    0.476951  \n",
       "min      0.000000                  0.078000   21.000000    0.000000  \n",
       "25%     27.300000                  0.243750   24.000000    0.000000  \n",
       "50%     32.000000                  0.372500   29.000000    0.000000  \n",
       "75%     36.600000                  0.626250   41.000000    1.000000  \n",
       "max     67.100000                  2.420000   81.000000    1.000000  "
      ]
     },
     "execution_count": 5,
     "metadata": {},
     "output_type": "execute_result"
    }
   ],
   "source": [
    "diabetes_data.describe()"
   ]
  },
  {
   "cell_type": "code",
   "execution_count": 6,
   "id": "e07dfeff",
   "metadata": {
    "execution": {
     "iopub.execute_input": "2022-12-17T18:36:33.679892Z",
     "iopub.status.busy": "2022-12-17T18:36:33.678830Z",
     "iopub.status.idle": "2022-12-17T18:36:34.890605Z",
     "shell.execute_reply": "2022-12-17T18:36:34.889250Z"
    },
    "papermill": {
     "duration": 1.22428,
     "end_time": "2022-12-17T18:36:34.893338",
     "exception": false,
     "start_time": "2022-12-17T18:36:33.669058",
     "status": "completed"
    },
    "tags": []
   },
   "outputs": [
    {
     "data": {
      "image/png": "[encoded data removed]",
      "text/plain": [
       "<Figure size 1080x576 with 8 Axes>"
      ]
     },
     "metadata": {
      "needs_background": "light"
     },
     "output_type": "display_data"
    }
   ],
   "source": [
    "X = pd.DataFrame(diabetes_data).to_numpy()[:, 0:8]\n",
    "\n",
    "fig, ax = plt.subplots(2,4,figsize=(15,8))\n",
    "fig.tight_layout()\n",
    "\n",
    "col = 0\n",
    "for i in range(2):\n",
    "    ax[i, 0].set_ylabel('Count')\n",
    "    for j in range(4):\n",
    "        ax[i, j].hist(X[:, col])  \n",
    "        ax[i, j].set_title(column_names[col])   \n",
    "        col += 1\n",
    "plt.show()"
   ]
  },
  {
   "cell_type": "markdown",
   "id": "de9ce23a",
   "metadata": {
    "papermill": {
     "duration": 0.007919,
     "end_time": "2022-12-17T18:36:34.909630",
     "exception": false,
     "start_time": "2022-12-17T18:36:34.901711",
     "status": "completed"
    },
    "tags": []
   },
   "source": [
    "+ We can see that the minimum value of some columns is 0, for pregnancies this seems indeed possible but for the other columns this is not logical.\n",
    "+ We can see that the data does not contain any null values and the datatypes are all numerical"
   ]
  },
  {
   "cell_type": "markdown",
   "id": "ac192712",
   "metadata": {
    "papermill": {
     "duration": 0.007824,
     "end_time": "2022-12-17T18:36:34.925694",
     "exception": false,
     "start_time": "2022-12-17T18:36:34.917870",
     "status": "completed"
    },
    "tags": []
   },
   "source": [
    "## 2.2 Missing Values Handling\n",
    "\n",
    "We will create a new dataset and replace the new values of the columns with the NaN <br>\n",
    "We want to know how many zero values<br>\n",
    "So we have to replace the null values with the mean of the column, such that the data is not completely wasted.<br>"
   ]
  },
  {
   "cell_type": "code",
   "execution_count": 7,
   "id": "3dd9acd6",
   "metadata": {
    "execution": {
     "iopub.execute_input": "2022-12-17T18:36:34.943681Z",
     "iopub.status.busy": "2022-12-17T18:36:34.943307Z",
     "iopub.status.idle": "2022-12-17T18:36:34.952828Z",
     "shell.execute_reply": "2022-12-17T18:36:34.951300Z"
    },
    "papermill": {
     "duration": 0.021704,
     "end_time": "2022-12-17T18:36:34.955363",
     "exception": false,
     "start_time": "2022-12-17T18:36:34.933659",
     "status": "completed"
    },
    "tags": []
   },
   "outputs": [
    {
     "data": {
      "text/plain": [
       "Pregnancies                 0\n",
       "Glucose                     0\n",
       "BloodPressure               0\n",
       "SkinThickness               0\n",
       "Insulin                     0\n",
       "BMI                         0\n",
       "DiabetesPedigreeFunction    0\n",
       "Age                         0\n",
       "Outcome                     0\n",
       "dtype: int64"
      ]
     },
     "execution_count": 7,
     "metadata": {},
     "output_type": "execute_result"
    }
   ],
   "source": [
    "diabetes_data.isnull().sum()"
   ]
  },
  {
   "cell_type": "code",
   "execution_count": 8,
   "id": "d4e29e8e",
   "metadata": {
    "execution": {
     "iopub.execute_input": "2022-12-17T18:36:34.980524Z",
     "iopub.status.busy": "2022-12-17T18:36:34.979795Z",
     "iopub.status.idle": "2022-12-17T18:36:34.994495Z",
     "shell.execute_reply": "2022-12-17T18:36:34.993410Z"
    },
    "papermill": {
     "duration": 0.030527,
     "end_time": "2022-12-17T18:36:34.997472",
     "exception": false,
     "start_time": "2022-12-17T18:36:34.966945",
     "status": "completed"
    },
    "tags": []
   },
   "outputs": [],
   "source": [
    "# replace 0 value for columns where zero value does not make sense with NaN\n",
    "diabetes_data_new = diabetes_data\n",
    "diabetes_data_new[[\"Glucose\", \"BloodPressure\", \"SkinThickness\", \"Insulin\", \"BMI\"]] = diabetes_data_new[[\"Glucose\", \"BloodPressure\", \"SkinThickness\", \"Insulin\", \"BMI\"]].replace(0, np.NaN)"
   ]
  },
  {
   "cell_type": "code",
   "execution_count": 9,
   "id": "f933f7d0",
   "metadata": {
    "execution": {
     "iopub.execute_input": "2022-12-17T18:36:35.029157Z",
     "iopub.status.busy": "2022-12-17T18:36:35.028003Z",
     "iopub.status.idle": "2022-12-17T18:36:35.042026Z",
     "shell.execute_reply": "2022-12-17T18:36:35.039909Z"
    },
    "papermill": {
     "duration": 0.034406,
     "end_time": "2022-12-17T18:36:35.045766",
     "exception": false,
     "start_time": "2022-12-17T18:36:35.011360",
     "status": "completed"
    },
    "tags": []
   },
   "outputs": [
    {
     "data": {
      "text/plain": [
       "Pregnancies                   0\n",
       "Glucose                       5\n",
       "BloodPressure                35\n",
       "SkinThickness               227\n",
       "Insulin                     374\n",
       "BMI                          11\n",
       "DiabetesPedigreeFunction      0\n",
       "Age                           0\n",
       "Outcome                       0\n",
       "dtype: int64"
      ]
     },
     "execution_count": 9,
     "metadata": {},
     "output_type": "execute_result"
    }
   ],
   "source": [
    "diabetes_data_new.isnull().sum()"
   ]
  },
  {
   "cell_type": "code",
   "execution_count": 10,
   "id": "299d4492",
   "metadata": {
    "execution": {
     "iopub.execute_input": "2022-12-17T18:36:35.070139Z",
     "iopub.status.busy": "2022-12-17T18:36:35.069111Z",
     "iopub.status.idle": "2022-12-17T18:36:35.080662Z",
     "shell.execute_reply": "2022-12-17T18:36:35.079216Z"
    },
    "papermill": {
     "duration": 0.029827,
     "end_time": "2022-12-17T18:36:35.084947",
     "exception": false,
     "start_time": "2022-12-17T18:36:35.055120",
     "status": "completed"
    },
    "scrolled": true,
    "tags": []
   },
   "outputs": [
    {
     "name": "stdout",
     "output_type": "stream",
     "text": [
      "Pregnancies : \t 0.0  %\n",
      "Glucose : \t 0.65  %\n",
      "BloodPressure : \t 4.56  %\n",
      "SkinThickness : \t 29.56  %\n",
      "Insulin : \t 48.7  %\n",
      "BMI : \t 1.43  %\n",
      "DiabetesPedigreeFunction : \t 0.0  %\n",
      "Age : \t 0.0  %\n",
      "Outcome : \t 0.0  %\n"
     ]
    }
   ],
   "source": [
    "# TODO: create nice table\n",
    "percentages = []\n",
    "for i in diabetes_data_new.isnull().sum().values:\n",
    "    percentages.append((i / 768) * 100)\n",
    "for i in range(len(percentages)):\n",
    "    print(column_names[i], \": \\t\", round(percentages[i], 2), \" %\")"
   ]
  },
  {
   "cell_type": "code",
   "execution_count": 11,
   "id": "71d9dc02",
   "metadata": {
    "execution": {
     "iopub.execute_input": "2022-12-17T18:36:35.105562Z",
     "iopub.status.busy": "2022-12-17T18:36:35.104080Z",
     "iopub.status.idle": "2022-12-17T18:36:35.124202Z",
     "shell.execute_reply": "2022-12-17T18:36:35.122240Z"
    },
    "papermill": {
     "duration": 0.033665,
     "end_time": "2022-12-17T18:36:35.127715",
     "exception": false,
     "start_time": "2022-12-17T18:36:35.094050",
     "status": "completed"
    },
    "tags": []
   },
   "outputs": [
    {
     "name": "stdout",
     "output_type": "stream",
     "text": [
      "Mean values for Outcome = 1\n",
      "Pregnancies                   4.000\n",
      "Glucose                     140.000\n",
      "BloodPressure                74.500\n",
      "SkinThickness                32.000\n",
      "Insulin                     169.500\n",
      "BMI                          34.300\n",
      "DiabetesPedigreeFunction      0.449\n",
      "Age                          36.000\n",
      "Name: 1, dtype: float64\n",
      "Mean values for Outcome = 0\n",
      "Pregnancies                   2.000\n",
      "Glucose                     107.000\n",
      "BloodPressure                70.000\n",
      "SkinThickness                27.000\n",
      "Insulin                     102.500\n",
      "BMI                          30.100\n",
      "DiabetesPedigreeFunction      0.336\n",
      "Age                          27.000\n",
      "Name: 0, dtype: float64\n"
     ]
    }
   ],
   "source": [
    "# TODO: nicer result\n",
    "# mean values of Outcome 1 and Outcome 0\n",
    "print(\"Mean values for Outcome = 1\")\n",
    "print(diabetes_data_new.groupby('Outcome').median().loc[1])\n",
    "print(\"Mean values for Outcome = 0\")\n",
    "print(diabetes_data_new.groupby('Outcome').median().loc[0])"
   ]
  },
  {
   "cell_type": "code",
   "execution_count": 12,
   "id": "fe137d72",
   "metadata": {
    "execution": {
     "iopub.execute_input": "2022-12-17T18:36:35.148387Z",
     "iopub.status.busy": "2022-12-17T18:36:35.147250Z",
     "iopub.status.idle": "2022-12-17T18:36:35.158805Z",
     "shell.execute_reply": "2022-12-17T18:36:35.157271Z"
    },
    "papermill": {
     "duration": 0.024822,
     "end_time": "2022-12-17T18:36:35.161392",
     "exception": false,
     "start_time": "2022-12-17T18:36:35.136570",
     "status": "completed"
    },
    "tags": []
   },
   "outputs": [
    {
     "data": {
      "text/plain": [
       "169.5"
      ]
     },
     "execution_count": 12,
     "metadata": {},
     "output_type": "execute_result"
    }
   ],
   "source": [
    "diabetes_data_new.groupby('Outcome').median().loc[1, \"Insulin\"]"
   ]
  },
  {
   "cell_type": "code",
   "execution_count": 13,
   "id": "b8f0d835",
   "metadata": {
    "execution": {
     "iopub.execute_input": "2022-12-17T18:36:35.180330Z",
     "iopub.status.busy": "2022-12-17T18:36:35.179923Z",
     "iopub.status.idle": "2022-12-17T18:36:35.214743Z",
     "shell.execute_reply": "2022-12-17T18:36:35.213839Z"
    },
    "papermill": {
     "duration": 0.047933,
     "end_time": "2022-12-17T18:36:35.217859",
     "exception": false,
     "start_time": "2022-12-17T18:36:35.169926",
     "status": "completed"
    },
    "tags": []
   },
   "outputs": [],
   "source": [
    "# replace the null values of class 1 and class 0 seperately\n",
    "\n",
    "replace_columns = [\"Glucose\", \"BloodPressure\", \"SkinThickness\", \"Insulin\", \"BMI\"]\n",
    "\n",
    "for col in replace_columns:\n",
    "    diabetes_data_new.loc[(diabetes_data_new['Outcome'] == 0 ) & (diabetes_data_new[col].isnull()), col] = diabetes_data_new.groupby('Outcome').median().loc[0, col]\n",
    "    diabetes_data_new.loc[(diabetes_data_new['Outcome'] == 1 ) & (diabetes_data_new[col].isnull()), col] = diabetes_data_new.groupby('Outcome').median().loc[1, col]"
   ]
  },
  {
   "cell_type": "code",
   "execution_count": 14,
   "id": "6872b653",
   "metadata": {
    "execution": {
     "iopub.execute_input": "2022-12-17T18:36:35.240334Z",
     "iopub.status.busy": "2022-12-17T18:36:35.239708Z",
     "iopub.status.idle": "2022-12-17T18:36:36.597764Z",
     "shell.execute_reply": "2022-12-17T18:36:36.596973Z"
    },
    "papermill": {
     "duration": 1.371501,
     "end_time": "2022-12-17T18:36:36.600131",
     "exception": false,
     "start_time": "2022-12-17T18:36:35.228630",
     "status": "completed"
    },
    "tags": []
   },
   "outputs": [
    {
     "data": {
      "image/png": "[encoded data removed]",
      "text/plain": [
       "<Figure size 1080x576 with 8 Axes>"
      ]
     },
     "metadata": {
      "needs_background": "light"
     },
     "output_type": "display_data"
    }
   ],
   "source": [
    "X = pd.DataFrame(diabetes_data_new).to_numpy()[:, 0:8]\n",
    "\n",
    "fig, ax = plt.subplots(2,4,figsize=(15,8))\n",
    "fig.tight_layout()\n",
    "\n",
    "col = 0\n",
    "for i in range(2):\n",
    "    ax[i, 0].set_ylabel('Count')\n",
    "    for j in range(4):\n",
    "        ax[i, j].hist(X[:, col])  \n",
    "        ax[i, j].set_title(column_names[col])   \n",
    "        col += 1\n",
    "plt.show()"
   ]
  },
  {
   "cell_type": "markdown",
   "id": "2604d80c",
   "metadata": {
    "papermill": {
     "duration": 0.011052,
     "end_time": "2022-12-17T18:36:36.623021",
     "exception": false,
     "start_time": "2022-12-17T18:36:36.611969",
     "status": "completed"
    },
    "tags": []
   },
   "source": [
    "## 2.3 Outlier Handling"
   ]
  },
  {
   "cell_type": "code",
   "execution_count": 15,
   "id": "e5a6dfc6",
   "metadata": {
    "execution": {
     "iopub.execute_input": "2022-12-17T18:36:36.647699Z",
     "iopub.status.busy": "2022-12-17T18:36:36.647294Z",
     "iopub.status.idle": "2022-12-17T18:36:36.933993Z",
     "shell.execute_reply": "2022-12-17T18:36:36.932572Z"
    },
    "papermill": {
     "duration": 0.303089,
     "end_time": "2022-12-17T18:36:36.936783",
     "exception": false,
     "start_time": "2022-12-17T18:36:36.633694",
     "status": "completed"
    },
    "tags": []
   },
   "outputs": [
    {
     "data": {
      "text/plain": [
       "Text(0, 0.5, 'Values (centimeters)')"
      ]
     },
     "execution_count": 15,
     "metadata": {},
     "output_type": "execute_result"
    },
    {
     "data": {
      "image/png": "[encoded data removed]",
      "text/plain": [
       "<Figure size 432x288 with 1 Axes>"
      ]
     },
     "metadata": {
      "needs_background": "light"
     },
     "output_type": "display_data"
    }
   ],
   "source": [
    "# make boxplots to identify outliers\n",
    "# standard deviation\n",
    "\n",
    "plt.boxplot(diabetes_data_new)\n",
    "plt.ylabel('Values (centimeters)')\n",
    "#plt.xticks([1, 2, 3, 4],['sepal length','sepal width','petal length','petal width’])\n"
   ]
  },
  {
   "cell_type": "code",
   "execution_count": 16,
   "id": "e6ce4f7b",
   "metadata": {
    "execution": {
     "iopub.execute_input": "2022-12-17T18:36:36.960795Z",
     "iopub.status.busy": "2022-12-17T18:36:36.960423Z",
     "iopub.status.idle": "2022-12-17T18:36:36.976852Z",
     "shell.execute_reply": "2022-12-17T18:36:36.975256Z"
    },
    "papermill": {
     "duration": 0.032283,
     "end_time": "2022-12-17T18:36:36.980326",
     "exception": false,
     "start_time": "2022-12-17T18:36:36.948043",
     "status": "completed"
    },
    "tags": []
   },
   "outputs": [
    {
     "data": {
      "text/plain": [
       "Pregnancies                  0\n",
       "Glucose                      0\n",
       "BloodPressure                0\n",
       "SkinThickness                1\n",
       "Insulin                     18\n",
       "BMI                          0\n",
       "DiabetesPedigreeFunction     4\n",
       "Age                          0\n",
       "Outcome                      0\n",
       "dtype: int64"
      ]
     },
     "execution_count": 16,
     "metadata": {},
     "output_type": "execute_result"
    }
   ],
   "source": [
    "# TODO: do it for 75 and 25 or 95 and 5\n",
    "# count outliers\n",
    "\n",
    "Q1 = diabetes_data_new.quantile(0.10)\n",
    "Q3 = diabetes_data_new.quantile(0.90)\n",
    "IQR = Q3 - Q1\n",
    "\n",
    "((diabetes_data_new < (Q1 - 1.5 * IQR)) | (diabetes_data_new > (Q3 + 1.5 * IQR))).sum()"
   ]
  },
  {
   "cell_type": "markdown",
   "id": "4be5106f",
   "metadata": {
    "papermill": {
     "duration": 0.011476,
     "end_time": "2022-12-17T18:36:37.004324",
     "exception": false,
     "start_time": "2022-12-17T18:36:36.992848",
     "status": "completed"
    },
    "tags": []
   },
   "source": [
    "# 2.4 Cleaned data"
   ]
  },
  {
   "cell_type": "code",
   "execution_count": 17,
   "id": "0333748c",
   "metadata": {
    "execution": {
     "iopub.execute_input": "2022-12-17T18:36:37.028161Z",
     "iopub.status.busy": "2022-12-17T18:36:37.027485Z",
     "iopub.status.idle": "2022-12-17T18:36:37.033827Z",
     "shell.execute_reply": "2022-12-17T18:36:37.032467Z"
    },
    "papermill": {
     "duration": 0.021172,
     "end_time": "2022-12-17T18:36:37.036285",
     "exception": false,
     "start_time": "2022-12-17T18:36:37.015113",
     "status": "completed"
    },
    "tags": []
   },
   "outputs": [],
   "source": [
    "X = pd.DataFrame(diabetes_data_new).to_numpy()[:, 0:8]\n",
    "y = pd.DataFrame(diabetes_data_new).to_numpy()[:, 8]"
   ]
  },
  {
   "cell_type": "code",
   "execution_count": 18,
   "id": "ecdb99db",
   "metadata": {
    "execution": {
     "iopub.execute_input": "2022-12-17T18:36:37.060275Z",
     "iopub.status.busy": "2022-12-17T18:36:37.059875Z",
     "iopub.status.idle": "2022-12-17T18:36:38.302935Z",
     "shell.execute_reply": "2022-12-17T18:36:38.301509Z"
    },
    "papermill": {
     "duration": 1.257751,
     "end_time": "2022-12-17T18:36:38.305824",
     "exception": false,
     "start_time": "2022-12-17T18:36:37.048073",
     "status": "completed"
    },
    "tags": []
   },
   "outputs": [
    {
     "data": {
      "image/png": "[encoded data removed]",
      "text/plain": [
       "<Figure size 1080x576 with 8 Axes>"
      ]
     },
     "metadata": {
      "needs_background": "light"
     },
     "output_type": "display_data"
    }
   ],
   "source": [
    "fig, ax = plt.subplots(2,4,figsize=(15,8))\n",
    "fig.tight_layout()\n",
    "\n",
    "col = 0\n",
    "for i in range(2):\n",
    "    ax[i, 0].set_ylabel('Count')\n",
    "    for j in range(4):\n",
    "        ax[i, j].hist(X[:, col])  \n",
    "        ax[i, j].set_title(column_names[col])   \n",
    "        col += 1\n",
    "plt.show()"
   ]
  },
  {
   "cell_type": "markdown",
   "id": "1498145e",
   "metadata": {
    "papermill": {
     "duration": 0.010389,
     "end_time": "2022-12-17T18:36:38.327546",
     "exception": false,
     "start_time": "2022-12-17T18:36:38.317157",
     "status": "completed"
    },
    "tags": []
   },
   "source": [
    "# Algorithms\n",
    "+ do cross validation because most efficient way\n",
    "+ do each model on it"
   ]
  },
  {
   "cell_type": "code",
   "execution_count": 19,
   "id": "37010c15",
   "metadata": {
    "execution": {
     "iopub.execute_input": "2022-12-17T18:36:38.351447Z",
     "iopub.status.busy": "2022-12-17T18:36:38.349917Z",
     "iopub.status.idle": "2022-12-17T18:36:38.393333Z",
     "shell.execute_reply": "2022-12-17T18:36:38.391095Z"
    },
    "papermill": {
     "duration": 0.058307,
     "end_time": "2022-12-17T18:36:38.396344",
     "exception": false,
     "start_time": "2022-12-17T18:36:38.338037",
     "status": "completed"
    },
    "tags": []
   },
   "outputs": [
    {
     "name": "stdout",
     "output_type": "stream",
     "text": [
      "SVM :  0.8135922330097087\n",
      "DTC :  0.8427184466019417\n",
      "KNN :  0.8271844660194175\n"
     ]
    }
   ],
   "source": [
    "random_state = 1234\n",
    "accuracy = []\n",
    "algorithms = []\n",
    "algorithms.append([\"SVM\", svm.SVC(random_state=random_state)])\n",
    "algorithms.append([\"DTC\", tree.DecisionTreeClassifier(random_state=random_state)])\n",
    "algorithms.append([\"KNN\", KNeighborsClassifier()])\n",
    "\n",
    "for algorithm in algorithms:\n",
    "    X_train, X_test, y_train, y_test = train_test_split(X,y,train_size=0.33, random_state=random_state, stratify=y)\n",
    "    algorithm[1].fit(X_train,y_train)\n",
    "    pred_values = algorithm[1].predict(X_test)\n",
    "    acc = accuracy_score(pred_values, y_test)\n",
    "    accuracy.append(acc)\n",
    "for acc in range(len(accuracy)):\n",
    "    print(algorithms[acc][0], \": \", accuracy[acc])"
   ]
  },
  {
   "cell_type": "markdown",
   "id": "f74d282f",
   "metadata": {
    "papermill": {
     "duration": 0.010246,
     "end_time": "2022-12-17T18:36:38.418031",
     "exception": false,
     "start_time": "2022-12-17T18:36:38.407785",
     "status": "completed"
    },
    "tags": []
   },
   "source": [
    "# Analysis\n",
    "+ roc curve\n",
    "+ boxplots\n",
    "+ further things"
   ]
  },
  {
   "cell_type": "code",
   "execution_count": null,
   "id": "fdba341c",
   "metadata": {
    "papermill": {
     "duration": 0.010144,
     "end_time": "2022-12-17T18:36:38.438677",
     "exception": false,
     "start_time": "2022-12-17T18:36:38.428533",
     "status": "completed"
    },
    "tags": []
   },
   "outputs": [],
   "source": []
  }
 ],
 "metadata": {
  "kernelspec": {
   "display_name": "Python 3",
   "language": "python",
   "name": "python3"
  },
  "language_info": {
   "codemirror_mode": {
    "name": "ipython",
    "version": 3
   },
   "file_extension": ".py",
   "mimetype": "text/x-python",
   "name": "python",
   "nbconvert_exporter": "python",
   "pygments_lexer": "ipython3",
   "version": "3.7.12"
  },
  "papermill": {
   "default_parameters": {},
   "duration": 16.281232,
   "end_time": "2022-12-17T18:36:39.475304",
   "environment_variables": {},
   "exception": null,
   "input_path": "__notebook__.ipynb",
   "output_path": "__notebook__.ipynb",
   "parameters": {},
   "start_time": "2022-12-17T18:36:23.194072",
   "version": "2.3.4"
  }
 },
 "nbformat": 4,
 "nbformat_minor": 5
}
